{
  "nbformat": 4,
  "nbformat_minor": 0,
  "metadata": {
    "colab": {
      "provenance": []
    },
    "kernelspec": {
      "name": "python3",
      "display_name": "Python 3"
    },
    "language_info": {
      "name": "python"
    }
  },
  "cells": [
    {
      "cell_type": "code",
      "source": [],
      "metadata": {
        "id": "P9X93Lc1X3_t"
      },
      "execution_count": null,
      "outputs": []
    },
    {
      "cell_type": "code",
      "source": [
        "# mount your google drive\n",
        "from google.colab import drive\n",
        "drive.mount('/content/drive')"
      ],
      "metadata": {
        "id": "elp_hP3QXw-b"
      },
      "execution_count": null,
      "outputs": []
    },
    {
      "cell_type": "code",
      "execution_count": 1,
      "metadata": {
        "id": "qmz2L0CMl2yp"
      },
      "outputs": [],
      "source": [
        "import torch\n",
        "import torch.nn as nn\n",
        "import torch.optim as optim"
      ]
    },
    {
      "cell_type": "code",
      "source": [
        "class CNN_LSTM(nn.Module):\n",
        "\n",
        "    def __init__(self, input_dim, hidden_dim, num_layers, output_dim, rnn_horizon):\n",
        "\n",
        "        super(CNN_LSTM, self).__init__()\n",
        "\n",
        "        self.device = torch.device(\"cuda\" if torch.cuda.is_available() else \"cpu\")\n",
        "        print(\"Using device: \", self.device)\n",
        "\n",
        "        self.hidden_size = hidden_dim\n",
        "        self.num_layers = num_layers\n",
        "        self.hidden_state = None\n",
        "        self.hidden_state_horizon = rnn_horizon\n",
        "\n",
        "        self.lstm = nn.LSTM(input_dim, hidden_dim, num_layers, batch_first = True)\n",
        "\n",
        "        self\n",
        "\n",
        "\n",
        "    def forward(self, x)\n",
        "\n",
        "    def optimizer(self)\n",
        "\n",
        "    def predict_actions(self, x)\n"
      ],
      "metadata": {
        "id": "tA88AvNwX7Pb"
      },
      "execution_count": null,
      "outputs": []
    }
  ]
}