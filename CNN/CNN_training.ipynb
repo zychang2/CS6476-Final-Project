{
 "cells": [
  {
   "cell_type": "code",
   "execution_count": 59,
   "metadata": {},
   "outputs": [],
   "source": [
    "import os\n",
    "import sys\n",
    "import numpy as np\n",
    "import pandas as pd\n",
    "import matplotlib.pyplot as plt\n",
    "import torch\n",
    "from PIL import Image\n",
    "import cv2\n",
    "import csv\n",
    "import av\n",
    "import json\n",
    "from torchvision import datasets, transforms\n",
    "from torch.utils.data import Dataset, DataLoader\n",
    "import models"
   ]
  },
  {
   "cell_type": "code",
   "execution_count": 60,
   "metadata": {},
   "outputs": [
    {
     "name": "stdout",
     "output_type": "stream",
     "text": [
      "cuda\n"
     ]
    }
   ],
   "source": [
    "device = 'cuda' if torch.cuda.is_available() else 'cpu'\n",
    "print(device)"
   ]
  },
  {
   "cell_type": "code",
   "execution_count": 4,
   "metadata": {},
   "outputs": [],
   "source": [
    "info_json_path = os.path.join(os.getcwd() + \"/../Video processing\" + os.sep + \"video_small\" + os.sep + \"smaller_transition_times.json\")\n",
    "with open(info_json_path, 'r', encoding='utf-8') as file:\n",
    "    info_json = json.load(file)"
   ]
  },
  {
   "cell_type": "code",
   "execution_count": 5,
   "metadata": {},
   "outputs": [],
   "source": [
    "path_to_data = os.path.normpath(os.getcwd() + \"/../Image processing\" + os.sep + \"video_proc/\")"
   ]
  },
  {
   "cell_type": "code",
   "execution_count": 6,
   "metadata": {},
   "outputs": [],
   "source": [
    "train_path = os.path.join(path_to_data, 'train')\n",
    "val_path = os.path.join(path_to_data, 'val')"
   ]
  },
  {
   "cell_type": "code",
   "execution_count": 7,
   "metadata": {},
   "outputs": [
    {
     "name": "stdout",
     "output_type": "stream",
     "text": [
      "The size of the first image '25 Best Trampoline Fail Nominees - FailArmy Hall of Fame (July 2017)18_00.jpg' is 240x240 pixels.\n",
      "The image mode is 'L' with 1 channel(s).\n"
     ]
    }
   ],
   "source": [
    "# List all files in the directory\n",
    "image_path = train_path\n",
    "files = os.listdir(image_path)\n",
    "\n",
    "# Filter out only image files\n",
    "image_files = [file for file in files if file.lower().endswith(('.png', '.jpg', '.jpeg', '.bmp', '.gif'))]\n",
    "\n",
    "# If there are image files\n",
    "if image_files:\n",
    "    # Get the first image file\n",
    "    first_image = image_files[0]\n",
    "    \n",
    "    # Open the image using Pillow\n",
    "    with Image.open(os.path.join(image_path, first_image)) as img:\n",
    "        # Get the size of the image\n",
    "        width, height = img.size\n",
    "        # Get the mode of the image\n",
    "        mode = img.mode\n",
    "        \n",
    "        # Get the number of channels based on the mode\n",
    "        channels = len(mode)\n",
    "        print(f\"The size of the first image '{first_image}' is {width}x{height} pixels.\")\n",
    "        print(f\"The image mode is '{mode}' with {channels} channel(s).\")\n",
    "else:\n",
    "    print(\"No image files found in the directory.\")"
   ]
  },
  {
   "cell_type": "code",
   "execution_count": 27,
   "metadata": {},
   "outputs": [
    {
     "name": "stdout",
     "output_type": "stream",
     "text": [
      "25 best_00.jpg\n",
      "25 best_01.jpg\n",
      "25 best_02.jpg\n"
     ]
    }
   ],
   "source": [
    "filename = '25 best'\n",
    "for i in range(3):\n",
    "    s = str(i).zfill(2)\n",
    "    print(filename + '_' + s + '.jpg')"
   ]
  },
  {
   "cell_type": "code",
   "execution_count": 17,
   "metadata": {},
   "outputs": [],
   "source": [
    "from torchvision.io import read_image\n",
    "\n",
    "class VideoImageDataset(Dataset):\n",
    "    def __init__(self, img_dir, device, transform=None, mode='train'):\n",
    "        self.img_dir = img_dir\n",
    "        self.transform = transform\n",
    "        self.mode = mode\n",
    "        self.device = device\n",
    "        self.data = self.load_data()\n",
    "        \n",
    "\n",
    "    def __len__(self):\n",
    "        return len(self.data)\n",
    "    \n",
    "    def load_data(self):\n",
    "        data = []\n",
    "        for filename in info_json:\n",
    "            if info_json[filename]['category'] != self.mode:\n",
    "                continue\n",
    "\n",
    "            csv_path = os.path.join(self.img_dir, filename + '_labels.csv')\n",
    "            for i in range(25):\n",
    "                num = str(i).zfill(2)\n",
    "                img_path = os.path.join(self.img_dir, filename + '_' + num + '.jpg')\n",
    "                data.append((img_path, csv_path, i))\n",
    "        \n",
    "        return data\n",
    "            \n",
    "    def __getitem__(self, idx):\n",
    "        img_path, csv_path, id = self.data[idx]\n",
    "        image = Image.open(img_path)\n",
    "\n",
    "        with open(csv_path, 'r', encoding='utf-8') as file:\n",
    "            csv_reader = csv.reader(file)\n",
    "            \n",
    "            row = next(csv_reader)\n",
    "            label = 0\n",
    "            # Access the i'th element from the row and parse it as an integer\n",
    "            try:\n",
    "                label = int(row[id])\n",
    "            except IndexError:\n",
    "                print(f\"The index {id} is out of range.\")\n",
    "            except ValueError:\n",
    "                print(f\"The value at index {id} is not an integer.\")\n",
    "            \n",
    "        if self.transform:\n",
    "            image = self.transform(image)\n",
    "        return image, label"
   ]
  },
  {
   "cell_type": "code",
   "execution_count": 9,
   "metadata": {},
   "outputs": [],
   "source": [
    "transform = transforms.Compose([\n",
    "    transforms.Resize((224, 224)),\n",
    "    transforms.ToTensor()\n",
    "])"
   ]
  },
  {
   "cell_type": "code",
   "execution_count": 66,
   "metadata": {},
   "outputs": [],
   "source": [
    "train_dataset = VideoImageDataset(train_path, device=device, transform=transform, mode='train')\n",
    "val_dataset = VideoImageDataset(val_path, device=device, transform=transform, mode='val')"
   ]
  },
  {
   "cell_type": "code",
   "execution_count": 16,
   "metadata": {},
   "outputs": [],
   "source": [
    "# Possible data augmentation transforms\n",
    "RN_transform = transforms.Compose([\n",
    "    # Resize the image to (224, 224) and convert to RGB\n",
    "    transforms.Resize((224, 224)),\n",
    "    transforms.Grayscale(num_output_channels=3),  # Convert single-channel image to RGB\n",
    "    # Random horizontal flip with probability 0.5\n",
    "    transforms.RandomHorizontalFlip(p=0.5),\n",
    "    # Random rotation between -10 and 10 degrees\n",
    "    transforms.RandomRotation(degrees=(-10, 10)),\n",
    "    # Random brightness adjustment\n",
    "    transforms.ColorJitter(brightness=0.2, contrast=0.2, saturation=0.2, hue=0.1),\n",
    "    # Convert PIL image to tensor and normalize\n",
    "    transforms.ToTensor(),\n",
    "    # Normalize with mean and standard deviation of ImageNet dataset\n",
    "    transforms.Normalize(mean=[0.485, 0.456, 0.406], std=[0.229, 0.224, 0.225])\n",
    "])"
   ]
  },
  {
   "cell_type": "code",
   "execution_count": 18,
   "metadata": {},
   "outputs": [],
   "source": [
    "train_dataset = VideoImageDataset(train_path, device=device, transform=RN_transform, mode='train')\n",
    "val_dataset = VideoImageDataset(val_path, device=device, transform=RN_transform, mode='val')"
   ]
  },
  {
   "cell_type": "code",
   "execution_count": 12,
   "metadata": {},
   "outputs": [],
   "source": [
    "for i in range(val_dataset.__len__()):\n",
    "    img, label = train_dataset.__getitem__(i)\n",
    "    img = img.permute(1, 2, 0).numpy()\n",
    "    if label == None:\n",
    "        print('exist None labels')\n",
    "    # plt.imshow(img, cmap='gray')\n",
    "    # plt.title(f'Label: {label}')\n",
    "    # plt.axis('off')\n",
    "    # plt.show()"
   ]
  },
  {
   "cell_type": "code",
   "execution_count": 19,
   "metadata": {},
   "outputs": [],
   "source": [
    "batch_size = 64\n",
    "train_dataloader = DataLoader(train_dataset, batch_size=batch_size, shuffle=True)\n",
    "val_dataloader = DataLoader(val_dataset, batch_size=batch_size, shuffle=True)"
   ]
  },
  {
   "cell_type": "code",
   "execution_count": 20,
   "metadata": {},
   "outputs": [
    {
     "name": "stdout",
     "output_type": "stream",
     "text": [
      "Image shape: torch.Size([3, 224, 224])\n",
      "Label: tensor(1)\n"
     ]
    }
   ],
   "source": [
    "for batch_idx, (images, labels) in enumerate(train_dataloader):\n",
    "    # Access image-label tuple at a specific index\n",
    "    index = 10  # Example index\n",
    "    if batch_idx * train_dataloader.batch_size <= index < (batch_idx + 1) * train_dataloader.batch_size:\n",
    "        image, label = images[index % train_dataloader.batch_size], labels[index % train_dataloader.batch_size]\n",
    "        # Use image and label as needed\n",
    "        print(\"Image shape:\", image.shape)\n",
    "        print(\"Label:\", label)\n",
    "        break  # Break the loop after accessing the desired tuplef"
   ]
  },
  {
   "cell_type": "code",
   "execution_count": 22,
   "metadata": {},
   "outputs": [
    {
     "name": "stderr",
     "output_type": "stream",
     "text": [
      "100%|██████████| 397/397 [01:26<00:00,  4.57it/s]\n",
      "100%|██████████| 94/94 [01:26<00:00,  1.08it/s]\n"
     ]
    }
   ],
   "source": [
    "from tqdm import tqdm\n",
    "\n",
    "for images, labels in tqdm(train_dataloader):\n",
    "    # Move data to GPU\n",
    "    images = images.to(device)\n",
    "    labels = labels.to(device)\n",
    "\n",
    "for images, labels in tqdm(val_dataloader):\n",
    "    # Move data to GPU\n",
    "    images = images.to(device)\n",
    "    labels = labels.to(device)"
   ]
  },
  {
   "cell_type": "code",
   "execution_count": 23,
   "metadata": {},
   "outputs": [],
   "source": [
    "import torch\n",
    "import pickle\n",
    "\n",
    "# Save train and val datasets\n",
    "with open('train_dataset.pkl', 'wb') as f:\n",
    "    pickle.dump(train_dataset, f)\n",
    "\n",
    "with open('val_dataset.pkl', 'wb') as f:\n",
    "    pickle.dump(val_dataset, f)\n",
    "\n",
    "# Save train and val dataloaders\n",
    "with open('train_dataloader.pkl', 'wb') as f:\n",
    "    pickle.dump(train_dataloader, f)\n",
    "\n",
    "with open('val_dataloader.pkl', 'wb') as f:\n",
    "    pickle.dump(val_dataloader, f)\n",
    "\n"
   ]
  },
  {
   "cell_type": "code",
   "execution_count": null,
   "metadata": {},
   "outputs": [],
   "source": [
    "from models import NaiveCNN\n",
    "\n",
    "# Initialize the model\n",
    "test_model = NaiveCNN.NaiveCNN().to(device)\n",
    "\n",
    "# Print the model architecture\n",
    "print(test_model)\n",
    "\n",
    "test_model.load_state_dict(torch.load('checkpoints/NaiveCNN.pth', map_location=device))\n"
   ]
  },
  {
   "cell_type": "code",
   "execution_count": null,
   "metadata": {},
   "outputs": [],
   "source": [
    "from models import ResNet34\n",
    "\n",
    "model = ResNet34.ModResNet().to(device)\n",
    "print(model)\n"
   ]
  },
  {
   "cell_type": "code",
   "execution_count": 71,
   "metadata": {},
   "outputs": [],
   "source": [
    "from models import ResNet50\n",
    "\n",
    "model = ResNet50.ModResNet().to(device)"
   ]
  },
  {
   "cell_type": "code",
   "execution_count": 25,
   "metadata": {},
   "outputs": [],
   "source": [
    "train_target = []\n",
    "val_target = []\n",
    "for i in range(train_dataset.__len__()):\n",
    "    img, label = train_dataset.__getitem__(i)\n",
    "    train_target.append(label)\n",
    "\n",
    "for i in range(val_dataset.__len__()):\n",
    "    img, label = val_dataset.__getitem__(i)\n",
    "    val_target.append(label)"
   ]
  },
  {
   "cell_type": "code",
   "execution_count": null,
   "metadata": {},
   "outputs": [],
   "source": [
    "print(train_target)\n",
    "print(val_target)"
   ]
  },
  {
   "cell_type": "code",
   "execution_count": 72,
   "metadata": {},
   "outputs": [
    {
     "name": "stdout",
     "output_type": "stream",
     "text": [
      "tensor([0.7023, 1.7359], device='cuda:0')\n"
     ]
    }
   ],
   "source": [
    "from sklearn.utils.class_weight import compute_class_weight\n",
    "\n",
    "# Calculate class weights\n",
    "class_weights = compute_class_weight('balanced', classes=np.unique(np.array([0, 1])), y=train_target)\n",
    "class_weights = torch.tensor(class_weights, dtype=torch.float32).to(device)\n",
    "print(class_weights)"
   ]
  },
  {
   "cell_type": "code",
   "execution_count": 79,
   "metadata": {},
   "outputs": [],
   "source": [
    "from tqdm import tqdm\n",
    "from sklearn.metrics import f1_score\n",
    "import torch.optim as optim\n",
    "import torch.nn as nn\n",
    "# Define device\n",
    "device = torch.device(\"cuda\" if torch.cuda.is_available() else \"cpu\")\n",
    "\n",
    "# Define your model, loss function, and optimizer\n",
    "model = NaiveCNN().to(device)\n",
    "criterion = nn.CrossEntropyLoss(weight=class_weights)\n",
    "optimizer = optim.SGD(model.parameters(), lr=0.02, weight_decay=0.001)\n",
    "\n",
    "# Lists to store training and validation metrics\n",
    "train_losses = []\n",
    "train_accuracies = []\n",
    "val_losses = []\n",
    "val_accuracies = []\n",
    "f1_scores = []"
   ]
  },
  {
   "cell_type": "code",
   "execution_count": 63,
   "metadata": {},
   "outputs": [],
   "source": [
    "from tqdm import tqdm\n",
    "from sklearn.metrics import f1_score\n",
    "import torch.optim as optim\n",
    "from torch.optim import lr_scheduler\n",
    "# Define device\n",
    "device = torch.device(\"cuda\" if torch.cuda.is_available() else \"cpu\")\n",
    "\n",
    "# RN34 Params\n",
    "criterion = nn.CrossEntropyLoss(weight=class_weights)\n",
    "optimizer = optim.SGD(model.parameters(), lr=0.005, weight_decay=0.0005)\n",
    "scheduler = lr_scheduler.StepLR(optimizer, step_size=10, gamma=0.2)\n",
    "# Lists to store training and validation metrics\n",
    "train_losses = []\n",
    "train_accuracies = []\n",
    "val_losses = []\n",
    "val_accuracies = []\n",
    "train_f1_scores = []\n",
    "val_f1_scores = []"
   ]
  },
  {
   "cell_type": "code",
   "execution_count": 77,
   "metadata": {},
   "outputs": [],
   "source": [
    "from tqdm import tqdm\n",
    "from sklearn.metrics import f1_score\n",
    "import torch.optim as optim\n",
    "from torch.optim import lr_scheduler\n",
    "\n",
    "\n",
    "# Define device\n",
    "device = torch.device(\"cuda\" if torch.cuda.is_available() else \"cpu\")\n",
    "\n",
    "# RN50 Params\n",
    "criterion = nn.CrossEntropyLoss(weight=class_weights)\n",
    "optimizer = optim.SGD(model.parameters(), lr=0.03, weight_decay=0.001)\n",
    "scheduler = lr_scheduler.StepLR(optimizer, step_size=5, gamma=0.2)\n",
    "# Lists to store training and validation metrics\n",
    "train_losses = []\n",
    "train_accuracies = []\n",
    "val_losses = []\n",
    "val_accuracies = []\n",
    "train_f1_scores = []\n",
    "val_f1_scores = []"
   ]
  },
  {
   "cell_type": "code",
   "execution_count": 78,
   "metadata": {},
   "outputs": [
    {
     "name": "stderr",
     "output_type": "stream",
     "text": [
      "Training Epoch 1/20: 100%|██████████| 397/397 [01:59<00:00,  3.34batch/s]\n",
      "Validation Epoch 1/20: 100%|██████████| 94/94 [00:27<00:00,  3.38batch/s]\n"
     ]
    },
    {
     "name": "stdout",
     "output_type": "stream",
     "text": [
      "Training Epoch [1/20], Loss: 0.6831, F1 Score: 0.5524\n",
      "Validation Epoch [1/20], Loss: 0.6688, F1 Score: 0.5928\n"
     ]
    },
    {
     "name": "stderr",
     "output_type": "stream",
     "text": [
      "Training Epoch 2/20: 100%|██████████| 397/397 [01:57<00:00,  3.37batch/s]\n",
      "Validation Epoch 2/20: 100%|██████████| 94/94 [00:26<00:00,  3.53batch/s]\n"
     ]
    },
    {
     "name": "stdout",
     "output_type": "stream",
     "text": [
      "Training Epoch [2/20], Loss: 0.6298, F1 Score: 0.6087\n",
      "Validation Epoch [2/20], Loss: 0.6390, F1 Score: 0.5749\n"
     ]
    },
    {
     "name": "stderr",
     "output_type": "stream",
     "text": [
      "Training Epoch 3/20: 100%|██████████| 397/397 [01:58<00:00,  3.34batch/s]\n",
      "Validation Epoch 3/20: 100%|██████████| 94/94 [00:27<00:00,  3.46batch/s]\n"
     ]
    },
    {
     "name": "stdout",
     "output_type": "stream",
     "text": [
      "Training Epoch [3/20], Loss: 0.5949, F1 Score: 0.6408\n",
      "Validation Epoch [3/20], Loss: 0.6285, F1 Score: 0.6005\n"
     ]
    },
    {
     "name": "stderr",
     "output_type": "stream",
     "text": [
      "Training Epoch 4/20: 100%|██████████| 397/397 [01:54<00:00,  3.45batch/s]\n",
      "Validation Epoch 4/20: 100%|██████████| 94/94 [00:25<00:00,  3.62batch/s]\n"
     ]
    },
    {
     "name": "stdout",
     "output_type": "stream",
     "text": [
      "Training Epoch [4/20], Loss: 0.5700, F1 Score: 0.6648\n",
      "Validation Epoch [4/20], Loss: 0.6478, F1 Score: 0.5654\n"
     ]
    },
    {
     "name": "stderr",
     "output_type": "stream",
     "text": [
      "Training Epoch 5/20: 100%|██████████| 397/397 [01:52<00:00,  3.54batch/s]\n",
      "Validation Epoch 5/20: 100%|██████████| 94/94 [00:26<00:00,  3.57batch/s]\n"
     ]
    },
    {
     "name": "stdout",
     "output_type": "stream",
     "text": [
      "Training Epoch [5/20], Loss: 0.5454, F1 Score: 0.6855\n",
      "Validation Epoch [5/20], Loss: 0.6495, F1 Score: 0.6090\n"
     ]
    },
    {
     "name": "stderr",
     "output_type": "stream",
     "text": [
      "Training Epoch 6/20: 100%|██████████| 397/397 [01:58<00:00,  3.36batch/s]\n",
      "Validation Epoch 6/20: 100%|██████████| 94/94 [00:26<00:00,  3.48batch/s]\n"
     ]
    },
    {
     "name": "stdout",
     "output_type": "stream",
     "text": [
      "Training Epoch [6/20], Loss: 0.5252, F1 Score: 0.7037\n",
      "Validation Epoch [6/20], Loss: 0.6737, F1 Score: 0.6232\n"
     ]
    },
    {
     "name": "stderr",
     "output_type": "stream",
     "text": [
      "Training Epoch 7/20: 100%|██████████| 397/397 [01:55<00:00,  3.43batch/s]\n",
      "Validation Epoch 7/20: 100%|██████████| 94/94 [00:26<00:00,  3.57batch/s]\n"
     ]
    },
    {
     "name": "stdout",
     "output_type": "stream",
     "text": [
      "Training Epoch [7/20], Loss: 0.5050, F1 Score: 0.7186\n",
      "Validation Epoch [7/20], Loss: 0.6700, F1 Score: 0.5703\n"
     ]
    },
    {
     "name": "stderr",
     "output_type": "stream",
     "text": [
      "Training Epoch 8/20: 100%|██████████| 397/397 [01:55<00:00,  3.45batch/s]\n",
      "Validation Epoch 8/20: 100%|██████████| 94/94 [00:27<00:00,  3.45batch/s]\n"
     ]
    },
    {
     "name": "stdout",
     "output_type": "stream",
     "text": [
      "Training Epoch [8/20], Loss: 0.4876, F1 Score: 0.7319\n",
      "Validation Epoch [8/20], Loss: 0.6672, F1 Score: 0.6296\n"
     ]
    },
    {
     "name": "stderr",
     "output_type": "stream",
     "text": [
      "Training Epoch 9/20: 100%|██████████| 397/397 [01:58<00:00,  3.36batch/s]\n",
      "Validation Epoch 9/20: 100%|██████████| 94/94 [00:26<00:00,  3.58batch/s]\n"
     ]
    },
    {
     "name": "stdout",
     "output_type": "stream",
     "text": [
      "Training Epoch [9/20], Loss: 0.4697, F1 Score: 0.7423\n",
      "Validation Epoch [9/20], Loss: 0.6981, F1 Score: 0.6312\n"
     ]
    },
    {
     "name": "stderr",
     "output_type": "stream",
     "text": [
      "Training Epoch 10/20: 100%|██████████| 397/397 [01:57<00:00,  3.38batch/s]\n",
      "Validation Epoch 10/20: 100%|██████████| 94/94 [00:27<00:00,  3.38batch/s]\n"
     ]
    },
    {
     "name": "stdout",
     "output_type": "stream",
     "text": [
      "Training Epoch [10/20], Loss: 0.4554, F1 Score: 0.7524\n",
      "Validation Epoch [10/20], Loss: 0.7245, F1 Score: 0.5192\n"
     ]
    },
    {
     "name": "stderr",
     "output_type": "stream",
     "text": [
      "Training Epoch 11/20: 100%|██████████| 397/397 [02:02<00:00,  3.23batch/s]\n",
      "Validation Epoch 11/20: 100%|██████████| 94/94 [00:27<00:00,  3.45batch/s]\n"
     ]
    },
    {
     "name": "stdout",
     "output_type": "stream",
     "text": [
      "Training Epoch [11/20], Loss: 0.4341, F1 Score: 0.7657\n",
      "Validation Epoch [11/20], Loss: 0.7307, F1 Score: 0.6279\n"
     ]
    },
    {
     "name": "stderr",
     "output_type": "stream",
     "text": [
      "Training Epoch 12/20: 100%|██████████| 397/397 [02:55<00:00,  2.26batch/s]\n",
      "Validation Epoch 12/20: 100%|██████████| 94/94 [00:26<00:00,  3.51batch/s]\n"
     ]
    },
    {
     "name": "stdout",
     "output_type": "stream",
     "text": [
      "Training Epoch [12/20], Loss: 0.4209, F1 Score: 0.7760\n",
      "Validation Epoch [12/20], Loss: 0.6830, F1 Score: 0.6190\n"
     ]
    },
    {
     "name": "stderr",
     "output_type": "stream",
     "text": [
      "Training Epoch 13/20: 100%|██████████| 397/397 [02:40<00:00,  2.48batch/s]\n",
      "Validation Epoch 13/20: 100%|██████████| 94/94 [00:36<00:00,  2.60batch/s]\n"
     ]
    },
    {
     "name": "stdout",
     "output_type": "stream",
     "text": [
      "Training Epoch [13/20], Loss: 0.4103, F1 Score: 0.7804\n",
      "Validation Epoch [13/20], Loss: 0.6902, F1 Score: 0.5932\n"
     ]
    },
    {
     "name": "stderr",
     "output_type": "stream",
     "text": [
      "Training Epoch 14/20: 100%|██████████| 397/397 [02:03<00:00,  3.21batch/s]\n",
      "Validation Epoch 14/20: 100%|██████████| 94/94 [00:27<00:00,  3.41batch/s]\n"
     ]
    },
    {
     "name": "stdout",
     "output_type": "stream",
     "text": [
      "Training Epoch [14/20], Loss: 0.4009, F1 Score: 0.7866\n",
      "Validation Epoch [14/20], Loss: 0.7443, F1 Score: 0.6343\n"
     ]
    },
    {
     "name": "stderr",
     "output_type": "stream",
     "text": [
      "Training Epoch 15/20: 100%|██████████| 397/397 [01:57<00:00,  3.38batch/s]\n",
      "Validation Epoch 15/20: 100%|██████████| 94/94 [00:27<00:00,  3.46batch/s]\n"
     ]
    },
    {
     "name": "stdout",
     "output_type": "stream",
     "text": [
      "Training Epoch [15/20], Loss: 0.3869, F1 Score: 0.7939\n",
      "Validation Epoch [15/20], Loss: 0.7298, F1 Score: 0.6348\n"
     ]
    },
    {
     "name": "stderr",
     "output_type": "stream",
     "text": [
      "Training Epoch 16/20: 100%|██████████| 397/397 [01:56<00:00,  3.42batch/s]\n",
      "Validation Epoch 16/20: 100%|██████████| 94/94 [00:26<00:00,  3.50batch/s]\n"
     ]
    },
    {
     "name": "stdout",
     "output_type": "stream",
     "text": [
      "Training Epoch [16/20], Loss: 0.3767, F1 Score: 0.8029\n",
      "Validation Epoch [16/20], Loss: 0.6859, F1 Score: 0.6188\n"
     ]
    },
    {
     "name": "stderr",
     "output_type": "stream",
     "text": [
      "Training Epoch 17/20: 100%|██████████| 397/397 [01:57<00:00,  3.39batch/s]\n",
      "Validation Epoch 17/20: 100%|██████████| 94/94 [00:27<00:00,  3.40batch/s]\n"
     ]
    },
    {
     "name": "stdout",
     "output_type": "stream",
     "text": [
      "Training Epoch [17/20], Loss: 0.3701, F1 Score: 0.8080\n",
      "Validation Epoch [17/20], Loss: 0.7311, F1 Score: 0.6278\n"
     ]
    },
    {
     "name": "stderr",
     "output_type": "stream",
     "text": [
      "Training Epoch 18/20: 100%|██████████| 397/397 [01:58<00:00,  3.35batch/s]\n",
      "Validation Epoch 18/20: 100%|██████████| 94/94 [00:26<00:00,  3.49batch/s]\n"
     ]
    },
    {
     "name": "stdout",
     "output_type": "stream",
     "text": [
      "Training Epoch [18/20], Loss: 0.3584, F1 Score: 0.8137\n",
      "Validation Epoch [18/20], Loss: 0.7491, F1 Score: 0.6190\n"
     ]
    },
    {
     "name": "stderr",
     "output_type": "stream",
     "text": [
      "Training Epoch 19/20: 100%|██████████| 397/397 [01:56<00:00,  3.41batch/s]\n",
      "Validation Epoch 19/20: 100%|██████████| 94/94 [00:26<00:00,  3.52batch/s]\n"
     ]
    },
    {
     "name": "stdout",
     "output_type": "stream",
     "text": [
      "Training Epoch [19/20], Loss: 0.3506, F1 Score: 0.8200\n",
      "Validation Epoch [19/20], Loss: 0.7371, F1 Score: 0.6307\n"
     ]
    },
    {
     "name": "stderr",
     "output_type": "stream",
     "text": [
      "Training Epoch 20/20: 100%|██████████| 397/397 [01:55<00:00,  3.45batch/s]\n",
      "Validation Epoch 20/20: 100%|██████████| 94/94 [00:26<00:00,  3.53batch/s]"
     ]
    },
    {
     "name": "stdout",
     "output_type": "stream",
     "text": [
      "Training Epoch [20/20], Loss: 0.3442, F1 Score: 0.8225\n",
      "Validation Epoch [20/20], Loss: 0.7979, F1 Score: 0.6281\n"
     ]
    },
    {
     "name": "stderr",
     "output_type": "stream",
     "text": [
      "\n"
     ]
    }
   ],
   "source": [
    "# Training loop\n",
    "num_epochs = 20\n",
    "for epoch in range(num_epochs):\n",
    "    model.train()  # Set the model to training mode\n",
    "    running_loss = 0.0\n",
    "    correct = 0\n",
    "    total = 0\n",
    "    train_preds = []\n",
    "    train_targets = []\n",
    "    # Iterate over the training dataset\n",
    "    for images, labels in tqdm(train_dataloader, desc=f'Training Epoch {epoch+1}/{num_epochs}', unit='batch'):\n",
    "        # Move images and labels to the GPU\n",
    "        images, labels = images.to(device), labels.to(device)\n",
    "\n",
    "        # Zero the parameter gradients\n",
    "        optimizer.zero_grad()\n",
    "\n",
    "        # Forward pass\n",
    "        outputs = model(images)\n",
    "        loss = criterion(outputs, labels)\n",
    "        \n",
    "        # Backward pass and optimization\n",
    "        loss.backward()\n",
    "        optimizer.step()\n",
    "\n",
    "        # Compute training accuracy\n",
    "        _, predicted = torch.max(outputs, 1)\n",
    "        total += labels.size(0)\n",
    "        correct += (predicted == labels).sum().item()\n",
    "\n",
    "        train_preds.extend(predicted.cpu().numpy())\n",
    "        train_targets.extend(labels.cpu().numpy())\n",
    "        # Update running loss\n",
    "        running_loss += loss.item()\n",
    "\n",
    "    # Compute training accuracy and loss for the epoch\n",
    "    train_epoch_loss = running_loss / len(train_dataloader)\n",
    "    train_epoch_accuracy = 100 * correct / total\n",
    "\n",
    "    # Store training loss and accuracy\n",
    "    train_losses.append(train_epoch_loss)\n",
    "    train_accuracies.append(train_epoch_accuracy)\n",
    "    train_f1 = f1_score(train_targets, train_preds, average='macro')\n",
    "    train_f1_scores.append(train_f1)\n",
    "    # Validation loop\n",
    "    model.eval()  # Set the model to evaluation mode\n",
    "    val_correct = 0\n",
    "    val_total = 0\n",
    "    val_running_loss = 0.0\n",
    "    val_preds = []\n",
    "    val_targets = []\n",
    "\n",
    "    with torch.no_grad():\n",
    "        for val_images, val_labels in tqdm(val_dataloader, desc=f'Validation Epoch {epoch+1}/{num_epochs}', unit='batch'):\n",
    "            val_images, val_labels = val_images.to(device), val_labels.to(device)\n",
    "            val_outputs = model(val_images)\n",
    "            val_loss = criterion(val_outputs, val_labels)\n",
    "            _, val_predicted = torch.max(val_outputs, 1)\n",
    "            val_total += val_labels.size(0)\n",
    "            val_correct += (val_predicted == val_labels).sum().item()\n",
    "            val_running_loss += val_loss.item()\n",
    "\n",
    "            val_preds.extend(val_predicted.cpu().numpy())\n",
    "            val_targets.extend(val_labels.cpu().numpy())\n",
    "\n",
    "    # Compute validation loss, accuracy, and F1 score for the epoch\n",
    "    val_epoch_loss = val_running_loss / len(val_dataloader)\n",
    "    val_epoch_accuracy = 100 * val_correct / val_total\n",
    "    val_f1 = f1_score(val_targets, val_preds, average='macro')\n",
    "    \n",
    "    # Store validation loss, accuracy, and F1 score\n",
    "    val_losses.append(val_epoch_loss)\n",
    "    val_accuracies.append(val_epoch_accuracy)\n",
    "    val_f1_scores.append(val_f1)\n",
    "\n",
    "    print(f'Training Epoch [{epoch+1}/{num_epochs}], Loss: {train_epoch_loss:.4f}, F1 Score: {train_f1:.4f}')\n",
    "    print(f'Validation Epoch [{epoch+1}/{num_epochs}], Loss: {val_epoch_loss:.4f}, F1 Score: {val_f1:.4f}')\n",
    "\n",
    "# Save the trained model to a file\n",
    "torch.save(model.state_dict(), \"checkpoints/ModResNet50_groundup.pth\")"
   ]
  },
  {
   "cell_type": "code",
   "execution_count": 79,
   "metadata": {},
   "outputs": [
    {
     "data": {
      "text/plain": [
       "<All keys matched successfully>"
      ]
     },
     "execution_count": 79,
     "metadata": {},
     "output_type": "execute_result"
    }
   ],
   "source": [
    "model = ResNet50.ModResNet().to(device)\n",
    "model.load_state_dict(torch.load(\"checkpoints/ModResNet50_groundup.pth\", map_location=device))"
   ]
  },
  {
   "cell_type": "code",
   "execution_count": 80,
   "metadata": {},
   "outputs": [
    {
     "data": {
      "image/png": "[encoded data removed]",
      "text/plain": [
       "<Figure size 1000x500 with 1 Axes>"
      ]
     },
     "metadata": {},
     "output_type": "display_data"
    },
    {
     "data": {
      "image/png": "[encoded data removed]",
      "text/plain": [
       "<Figure size 1000x500 with 1 Axes>"
      ]
     },
     "metadata": {},
     "output_type": "display_data"
    },
    {
     "data": {
      "image/png": "[encoded data removed]",
      "text/plain": [
       "<Figure size 1000x500 with 1 Axes>"
      ]
     },
     "metadata": {},
     "output_type": "display_data"
    },
    {
     "name": "stderr",
     "output_type": "stream",
     "text": [
      "100%|██████████| 94/94 [00:27<00:00,  3.44it/s]\n"
     ]
    },
    {
     "data": {
      "image/png": "[encoded data removed]",
      "text/plain": [
       "<Figure size 800x600 with 2 Axes>"
      ]
     },
     "metadata": {},
     "output_type": "display_data"
    }
   ],
   "source": [
    "import matplotlib.pyplot as plt\n",
    "import numpy as np\n",
    "from sklearn.metrics import confusion_matrix\n",
    "import seaborn as sns\n",
    "\n",
    "# Plot Loss Curve\n",
    "plt.figure(figsize=(10, 5))\n",
    "plt.plot(train_losses, label='Train Loss')\n",
    "plt.plot(val_losses, label='Validation Loss')\n",
    "plt.xlabel('Epoch')\n",
    "plt.ylabel('Loss')\n",
    "plt.title('Loss Curve')\n",
    "plt.legend()\n",
    "plt.show()\n",
    "\n",
    "# Plot Accuracy Curve\n",
    "plt.figure(figsize=(10, 5))\n",
    "plt.plot(train_accuracies, label='Train Accuracy')\n",
    "plt.plot(val_accuracies, label='Validation Accuracy')\n",
    "plt.xlabel('Epoch')\n",
    "plt.ylabel('Accuracy (%)')\n",
    "plt.title('Accuracy Curve')\n",
    "plt.legend()\n",
    "plt.show()\n",
    "\n",
    "# Plot Accuracy Curve\n",
    "plt.figure(figsize=(10, 5))\n",
    "plt.plot(train_f1_scores, label='Train F1')\n",
    "plt.plot(val_f1_scores, label='Validation F1')\n",
    "plt.xlabel('Epoch')\n",
    "plt.ylabel('F1-score')\n",
    "plt.title('F1 Score Curve')\n",
    "plt.legend()\n",
    "plt.show()\n",
    "\n",
    "# Plot Confusion Matrix\n",
    "model.eval()  # Ensure model is in evaluation mode\n",
    "val_preds = []\n",
    "val_targets = []\n",
    "\n",
    "with torch.no_grad():\n",
    "    for val_images, val_labels in tqdm(val_dataloader):\n",
    "        val_images, val_labels = val_images.to(device), val_labels.to(device)\n",
    "        val_outputs = model(val_images)\n",
    "        _, val_predicted = torch.max(val_outputs, 1)\n",
    "        val_preds.extend(val_predicted.cpu().numpy())\n",
    "        val_targets.extend(val_labels.cpu().numpy())\n",
    "\n",
    "cm = confusion_matrix(val_targets, val_preds)\n",
    "plt.figure(figsize=(8, 6))\n",
    "sns.heatmap(cm, annot=True, fmt=\"d\", cmap=\"Blues\", xticklabels=['0', '1'], yticklabels=['0', '1'])\n",
    "plt.xlabel('Predicted')\n",
    "plt.ylabel('True')\n",
    "plt.title('Confusion Matrix')\n",
    "plt.show()\n"
   ]
  },
  {
   "cell_type": "code",
   "execution_count": 81,
   "metadata": {},
   "outputs": [
    {
     "name": "stdout",
     "output_type": "stream",
     "text": [
      "0.6297281186158573\n"
     ]
    }
   ],
   "source": [
    "val_f1 = f1_score(val_targets, val_preds, average='macro')\n",
    "print(val_f1)"
   ]
  }
 ],
 "metadata": {
  "kernelspec": {
   "display_name": "m_env",
   "language": "python",
   "name": "python3"
  },
  "language_info": {
   "codemirror_mode": {
    "name": "ipython",
    "version": 3
   },
   "file_extension": ".py",
   "mimetype": "text/x-python",
   "name": "python",
   "nbconvert_exporter": "python",
   "pygments_lexer": "ipython3",
   "version": "3.10.13"
  }
 },
 "nbformat": 4,
 "nbformat_minor": 2
}
