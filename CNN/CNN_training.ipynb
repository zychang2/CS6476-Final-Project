{
 "cells": [
  {
   "cell_type": "code",
   "execution_count": 1,
   "metadata": {},
   "outputs": [],
   "source": [
    "import os\n",
    "import sys\n",
    "import numpy as np\n",
    "import pandas as pd\n",
    "import matplotlib.pyplot as plt\n",
    "import torch\n",
    "from PIL import Image\n",
    "import cv2\n",
    "import csv\n",
    "import av\n",
    "import json\n",
    "from torchvision import datasets, transforms\n",
    "from torch.utils.data import Dataset, DataLoader"
   ]
  },
  {
   "cell_type": "code",
   "execution_count": 2,
   "metadata": {},
   "outputs": [
    {
     "name": "stdout",
     "output_type": "stream",
     "text": [
      "cuda\n"
     ]
    }
   ],
   "source": [
    "device = 'cuda' if torch.cuda.is_available() else 'cpu'\n",
    "print(device)"
   ]
  },
  {
   "cell_type": "code",
   "execution_count": 57,
   "metadata": {},
   "outputs": [],
   "source": [
    "info_json_path = os.path.join(os.getcwd() + \"/../Video processing\" + os.sep + \"video_small\" + os.sep + \"smaller_transition_times.json\")\n",
    "with open(info_json_path, 'r', encoding='utf-8') as file:\n",
    "    info_json = json.load(file)"
   ]
  },
  {
   "cell_type": "code",
   "execution_count": 58,
   "metadata": {},
   "outputs": [],
   "source": [
    "path_to_data = os.path.normpath(os.getcwd() + \"/../Image processing\" + os.sep + \"video_proc/\")"
   ]
  },
  {
   "cell_type": "code",
   "execution_count": 59,
   "metadata": {},
   "outputs": [],
   "source": [
    "train_path = os.path.join(path_to_data, 'train')\n",
    "val_path = os.path.join(path_to_data, 'val')"
   ]
  },
  {
   "cell_type": "code",
   "execution_count": 60,
   "metadata": {},
   "outputs": [
    {
     "name": "stdout",
     "output_type": "stream",
     "text": [
      "The size of the first image '25 Best Trampoline Fail Nominees - FailArmy Hall of Fame (July 2017)18_00.jpg' is 240x240 pixels.\n",
      "The image mode is 'L' with 1 channel(s).\n"
     ]
    }
   ],
   "source": [
    "# List all files in the directory\n",
    "image_path = train_path\n",
    "files = os.listdir(image_path)\n",
    "\n",
    "# Filter out only image files\n",
    "image_files = [file for file in files if file.lower().endswith(('.png', '.jpg', '.jpeg', '.bmp', '.gif'))]\n",
    "\n",
    "# If there are image files\n",
    "if image_files:\n",
    "    # Get the first image file\n",
    "    first_image = image_files[0]\n",
    "    \n",
    "    # Open the image using Pillow\n",
    "    with Image.open(os.path.join(image_path, first_image)) as img:\n",
    "        # Get the size of the image\n",
    "        width, height = img.size\n",
    "        # Get the mode of the image\n",
    "        mode = img.mode\n",
    "        \n",
    "        # Get the number of channels based on the mode\n",
    "        channels = len(mode)\n",
    "        print(f\"The size of the first image '{first_image}' is {width}x{height} pixels.\")\n",
    "        print(f\"The image mode is '{mode}' with {channels} channel(s).\")\n",
    "else:\n",
    "    print(\"No image files found in the directory.\")"
   ]
  },
  {
   "cell_type": "code",
   "execution_count": 27,
   "metadata": {},
   "outputs": [
    {
     "name": "stdout",
     "output_type": "stream",
     "text": [
      "25 best_00.jpg\n",
      "25 best_01.jpg\n",
      "25 best_02.jpg\n"
     ]
    }
   ],
   "source": [
    "filename = '25 best'\n",
    "for i in range(3):\n",
    "    s = str(i).zfill(2)\n",
    "    print(filename + '_' + s + '.jpg')"
   ]
  },
  {
   "cell_type": "code",
   "execution_count": 64,
   "metadata": {},
   "outputs": [],
   "source": [
    "from torchvision.io import read_image\n",
    "\n",
    "class VideoImageDataset(Dataset):\n",
    "    def __init__(self, img_dir, device, transform=None, mode='train'):\n",
    "        self.img_dir = img_dir\n",
    "        self.transform = transform\n",
    "        self.mode = mode\n",
    "        self.device = device\n",
    "        self.data = self.load_data()\n",
    "        \n",
    "\n",
    "    def __len__(self):\n",
    "        return len(self.data)\n",
    "    \n",
    "    def load_data(self):\n",
    "        data = []\n",
    "        for filename in info_json:\n",
    "            if info_json[filename]['category'] != self.mode:\n",
    "                continue\n",
    "\n",
    "            csv_path = os.path.join(self.img_dir, filename + '_labels.csv')\n",
    "            for i in range(25):\n",
    "                num = str(i).zfill(2)\n",
    "                img_path = os.path.join(self.img_dir, filename + '_' + num + '.jpg')\n",
    "                data.append((img_path, csv_path, i))\n",
    "        \n",
    "        return data\n",
    "            \n",
    "    def __getitem__(self, idx):\n",
    "        img_path, csv_path, id = self.data[idx]\n",
    "        image = Image.open(img_path)\n",
    "\n",
    "        with open(csv_path, 'r', encoding='utf-8') as file:\n",
    "            csv_reader = csv.reader(file)\n",
    "            \n",
    "            row = next(csv_reader)\n",
    "            label = 0\n",
    "            # Access the i'th element from the row and parse it as an integer\n",
    "            try:\n",
    "                label = int(row[id])\n",
    "            except IndexError:\n",
    "                print(f\"The index {id} is out of range.\")\n",
    "            except ValueError:\n",
    "                print(f\"The value at index {id} is not an integer.\")\n",
    "            \n",
    "        if self.transform:\n",
    "            image = self.transform(image)\n",
    "        return image, label"
   ]
  },
  {
   "cell_type": "code",
   "execution_count": 65,
   "metadata": {},
   "outputs": [],
   "source": [
    "transform = transforms.Compose([\n",
    "    transforms.Resize((224, 224)),\n",
    "    transforms.ToTensor()\n",
    "])"
   ]
  },
  {
   "cell_type": "code",
   "execution_count": 66,
   "metadata": {},
   "outputs": [],
   "source": [
    "train_dataset = VideoImageDataset(train_path, device=device, transform=transform, mode='train')\n",
    "val_dataset = VideoImageDataset(val_path, device=device, transform=transform, mode='val')"
   ]
  },
  {
   "cell_type": "code",
   "execution_count": 42,
   "metadata": {},
   "outputs": [],
   "source": [
    "for i in range(val_dataset.__len__()):\n",
    "    img, label = train_dataset.__getitem__(i)\n",
    "    img = img.permute(1, 2, 0).numpy()\n",
    "    if label == None:\n",
    "        print('exist None labels')\n",
    "    # plt.imshow(img, cmap='gray')\n",
    "    # plt.title(f'Label: {label}')\n",
    "    # plt.axis('off')\n",
    "    # plt.show()"
   ]
  },
  {
   "cell_type": "code",
   "execution_count": 67,
   "metadata": {},
   "outputs": [],
   "source": [
    "batch_size = 64\n",
    "train_dataloader = DataLoader(train_dataset, batch_size=batch_size, shuffle=True)\n",
    "val_dataloader = DataLoader(val_dataset, batch_size=batch_size, shuffle=True)"
   ]
  },
  {
   "cell_type": "code",
   "execution_count": 44,
   "metadata": {},
   "outputs": [
    {
     "name": "stdout",
     "output_type": "stream",
     "text": [
      "Image shape: torch.Size([1, 224, 224])\n",
      "Label: tensor(0)\n"
     ]
    }
   ],
   "source": [
    "for batch_idx, (images, labels) in enumerate(train_dataloader):\n",
    "    # Access image-label tuple at a specific index\n",
    "    index = 10  # Example index\n",
    "    if batch_idx * train_dataloader.batch_size <= index < (batch_idx + 1) * train_dataloader.batch_size:\n",
    "        image, label = images[index % train_dataloader.batch_size], labels[index % train_dataloader.batch_size]\n",
    "        # Use image and label as needed\n",
    "        print(\"Image shape:\", image.shape)\n",
    "        print(\"Label:\", label)\n",
    "        break  # Break the loop after accessing the desired tuplef"
   ]
  },
  {
   "cell_type": "code",
   "execution_count": 68,
   "metadata": {},
   "outputs": [],
   "source": [
    "for images, labels in train_dataloader:\n",
    "    # Move data to GPU\n",
    "    images = images.to(device)\n",
    "    labels = labels.to(device)\n",
    "\n",
    "for images, labels in val_dataloader:\n",
    "    # Move data to GPU\n",
    "    images = images.to(device)\n",
    "    labels = labels.to(device)"
   ]
  },
  {
   "cell_type": "code",
   "execution_count": 69,
   "metadata": {},
   "outputs": [],
   "source": [
    "import torch\n",
    "import pickle\n",
    "\n",
    "# Save train and val datasets\n",
    "with open('train_dataset.pkl', 'wb') as f:\n",
    "    pickle.dump(train_dataset, f)\n",
    "\n",
    "with open('val_dataset.pkl', 'wb') as f:\n",
    "    pickle.dump(val_dataset, f)\n",
    "\n",
    "# Save train and val dataloaders\n",
    "with open('train_dataloader.pkl', 'wb') as f:\n",
    "    pickle.dump(train_dataloader, f)\n",
    "\n",
    "with open('val_dataloader.pkl', 'wb') as f:\n",
    "    pickle.dump(val_dataloader, f)\n",
    "\n"
   ]
  },
  {
   "cell_type": "code",
   "execution_count": 70,
   "metadata": {},
   "outputs": [
    {
     "name": "stdout",
     "output_type": "stream",
     "text": [
      "NaiveCNN(\n",
      "  (conv1): Conv2d(1, 32, kernel_size=(3, 3), stride=(1, 1), padding=(1, 1))\n",
      "  (conv2): Conv2d(32, 64, kernel_size=(3, 3), stride=(1, 1), padding=(1, 1))\n",
      "  (conv3): Conv2d(64, 128, kernel_size=(3, 3), stride=(1, 1), padding=(1, 1))\n",
      "  (fc1): Linear(in_features=100352, out_features=512, bias=True)\n",
      "  (fc2): Linear(in_features=512, out_features=128, bias=True)\n",
      "  (fc3): Linear(in_features=128, out_features=2, bias=True)\n",
      "  (dropout): Dropout(p=0.5, inplace=False)\n",
      ")\n"
     ]
    }
   ],
   "source": [
    "import torch\n",
    "import torch.nn as nn\n",
    "import torch.nn.functional as F\n",
    "\n",
    "class NaiveCNN(nn.Module):\n",
    "    def __init__(self):\n",
    "        super(NaiveCNN, self).__init__()\n",
    "        self.conv1 = nn.Conv2d(1, 32, kernel_size=3, stride=1, padding=1)\n",
    "        self.conv2 = nn.Conv2d(32, 64, kernel_size=3, stride=1, padding=1)\n",
    "        self.conv3 = nn.Conv2d(64, 128, kernel_size=3, stride=1, padding=1)\n",
    "        self.fc1 = nn.Linear(128 * 28 * 28, 512)\n",
    "        self.fc2 = nn.Linear(512, 128)\n",
    "        self.fc3 = nn.Linear(128, 2)\n",
    "        self.dropout = nn.Dropout(p=0.5)\n",
    "\n",
    "    def forward(self, x):\n",
    "        x = F.relu(self.conv1(x))\n",
    "        x = F.max_pool2d(x, kernel_size=2, stride=2)\n",
    "        x = F.relu(self.conv2(x))\n",
    "        x = F.max_pool2d(x, kernel_size=2, stride=2)\n",
    "        x = F.relu(self.conv3(x))\n",
    "        x = F.max_pool2d(x, kernel_size=2, stride=2)\n",
    "        x = x.view(-1, 128 * 28 * 28)\n",
    "        x = F.relu(self.fc1(x))\n",
    "        x = self.dropout(x)\n",
    "        x = F.relu(self.fc2(x))\n",
    "        x = self.dropout(x)\n",
    "        x = self.fc3(x)\n",
    "        return x\n",
    "\n",
    "# Initialize the model\n",
    "model = NaiveCNN().to(device)\n",
    "\n",
    "# Print the model architecture\n",
    "print(model)\n"
   ]
  },
  {
   "cell_type": "code",
   "execution_count": 87,
   "metadata": {},
   "outputs": [],
   "source": [
    "train_target = []\n",
    "val_target = []\n",
    "for i in range(train_dataset.__len__()):\n",
    "    img, label = train_dataset.__getitem__(i)\n",
    "    train_target.append(label)\n",
    "\n",
    "for i in range(val_dataset.__len__()):\n",
    "    img, label = val_dataset.__getitem__(i)\n",
    "    val_target.append(label)"
   ]
  },
  {
   "cell_type": "code",
   "execution_count": null,
   "metadata": {},
   "outputs": [],
   "source": [
    "print(train_target)\n",
    "print(val_target)"
   ]
  },
  {
   "cell_type": "code",
   "execution_count": 90,
   "metadata": {},
   "outputs": [
    {
     "name": "stdout",
     "output_type": "stream",
     "text": [
      "tensor([0.7023, 1.7359], device='cuda:0')\n"
     ]
    }
   ],
   "source": [
    "from sklearn.utils.class_weight import compute_class_weight\n",
    "\n",
    "# Calculate class weights\n",
    "class_weights = compute_class_weight('balanced', classes=np.unique(np.array([0, 1])), y=train_target)\n",
    "class_weights = torch.tensor(class_weights, dtype=torch.float32).to(device)\n",
    "print(class_weights)"
   ]
  },
  {
   "cell_type": "code",
   "execution_count": 79,
   "metadata": {},
   "outputs": [],
   "source": [
    "from tqdm import tqdm\n",
    "from sklearn.metrics import f1_score\n",
    "import torch.optim as optim\n",
    "\n",
    "# Define device\n",
    "device = torch.device(\"cuda\" if torch.cuda.is_available() else \"cpu\")\n",
    "\n",
    "# Define your model, loss function, and optimizer\n",
    "model = NaiveCNN().to(device)\n",
    "criterion = nn.CrossEntropyLoss(weight=class_weights)\n",
    "optimizer = optim.SGD(model.parameters(), lr=0.02, weight_decay=0.001)\n",
    "\n",
    "# Lists to store training and validation metrics\n",
    "train_losses = []\n",
    "train_accuracies = []\n",
    "val_losses = []\n",
    "val_accuracies = []\n",
    "f1_scores = []"
   ]
  },
  {
   "cell_type": "code",
   "execution_count": 80,
   "metadata": {},
   "outputs": [
    {
     "name": "stderr",
     "output_type": "stream",
     "text": [
      "Training Epoch 1/20: 100%|██████████| 397/397 [01:07<00:00,  5.89batch/s]\n",
      "Validation Epoch 1/20: 100%|██████████| 94/94 [00:09<00:00, 10.14batch/s]\n"
     ]
    },
    {
     "name": "stdout",
     "output_type": "stream",
     "text": [
      "Training Epoch [1/20], Loss: 0.6931, Accuracy: 59.29%\n",
      "Validation Epoch [1/20], Loss: 0.6921, Accuracy: 43.65%, F1 Score: 0.4361\n"
     ]
    },
    {
     "name": "stderr",
     "output_type": "stream",
     "text": [
      "Training Epoch 2/20: 100%|██████████| 397/397 [00:50<00:00,  7.82batch/s]\n",
      "Validation Epoch 2/20: 100%|██████████| 94/94 [00:09<00:00, 10.14batch/s]\n"
     ]
    },
    {
     "name": "stdout",
     "output_type": "stream",
     "text": [
      "Training Epoch [2/20], Loss: 0.6923, Accuracy: 55.73%\n",
      "Validation Epoch [2/20], Loss: 0.6906, Accuracy: 47.45%, F1 Score: 0.4738\n"
     ]
    },
    {
     "name": "stderr",
     "output_type": "stream",
     "text": [
      "Training Epoch 3/20: 100%|██████████| 397/397 [01:01<00:00,  6.43batch/s]\n",
      "Validation Epoch 3/20: 100%|██████████| 94/94 [00:09<00:00, 10.20batch/s]\n"
     ]
    },
    {
     "name": "stdout",
     "output_type": "stream",
     "text": [
      "Training Epoch [3/20], Loss: 0.6914, Accuracy: 54.64%\n",
      "Validation Epoch [3/20], Loss: 0.6906, Accuracy: 63.98%, F1 Score: 0.5313\n"
     ]
    },
    {
     "name": "stderr",
     "output_type": "stream",
     "text": [
      "Training Epoch 4/20: 100%|██████████| 397/397 [00:48<00:00,  8.16batch/s]\n",
      "Validation Epoch 4/20: 100%|██████████| 94/94 [00:09<00:00, 10.19batch/s]\n"
     ]
    },
    {
     "name": "stdout",
     "output_type": "stream",
     "text": [
      "Training Epoch [4/20], Loss: 0.6900, Accuracy: 56.57%\n",
      "Validation Epoch [4/20], Loss: 0.6879, Accuracy: 47.50%, F1 Score: 0.4741\n"
     ]
    },
    {
     "name": "stderr",
     "output_type": "stream",
     "text": [
      "Training Epoch 5/20: 100%|██████████| 397/397 [00:47<00:00,  8.43batch/s]\n",
      "Validation Epoch 5/20: 100%|██████████| 94/94 [00:09<00:00, 10.29batch/s]\n"
     ]
    },
    {
     "name": "stdout",
     "output_type": "stream",
     "text": [
      "Training Epoch [5/20], Loss: 0.6892, Accuracy: 55.40%\n",
      "Validation Epoch [5/20], Loss: 0.6873, Accuracy: 54.43%, F1 Score: 0.5279\n"
     ]
    },
    {
     "name": "stderr",
     "output_type": "stream",
     "text": [
      "Training Epoch 6/20: 100%|██████████| 397/397 [00:50<00:00,  7.89batch/s]\n",
      "Validation Epoch 6/20: 100%|██████████| 94/94 [00:09<00:00, 10.19batch/s]\n"
     ]
    },
    {
     "name": "stdout",
     "output_type": "stream",
     "text": [
      "Training Epoch [6/20], Loss: 0.6872, Accuracy: 55.97%\n",
      "Validation Epoch [6/20], Loss: 0.6890, Accuracy: 59.18%, F1 Score: 0.5376\n"
     ]
    },
    {
     "name": "stderr",
     "output_type": "stream",
     "text": [
      "Training Epoch 7/20: 100%|██████████| 397/397 [00:47<00:00,  8.44batch/s]\n",
      "Validation Epoch 7/20: 100%|██████████| 94/94 [00:09<00:00, 10.18batch/s]\n"
     ]
    },
    {
     "name": "stdout",
     "output_type": "stream",
     "text": [
      "Training Epoch [7/20], Loss: 0.6859, Accuracy: 57.37%\n",
      "Validation Epoch [7/20], Loss: 0.6891, Accuracy: 56.28%, F1 Score: 0.5271\n"
     ]
    },
    {
     "name": "stderr",
     "output_type": "stream",
     "text": [
      "Training Epoch 8/20: 100%|██████████| 397/397 [00:55<00:00,  7.20batch/s]\n",
      "Validation Epoch 8/20: 100%|██████████| 94/94 [00:09<00:00, 10.27batch/s]\n"
     ]
    },
    {
     "name": "stdout",
     "output_type": "stream",
     "text": [
      "Training Epoch [8/20], Loss: 0.6834, Accuracy: 57.39%\n",
      "Validation Epoch [8/20], Loss: 0.6953, Accuracy: 63.62%, F1 Score: 0.5266\n"
     ]
    },
    {
     "name": "stderr",
     "output_type": "stream",
     "text": [
      "Training Epoch 9/20: 100%|██████████| 397/397 [01:06<00:00,  5.93batch/s]\n",
      "Validation Epoch 9/20: 100%|██████████| 94/94 [00:09<00:00, 10.34batch/s]\n"
     ]
    },
    {
     "name": "stdout",
     "output_type": "stream",
     "text": [
      "Training Epoch [9/20], Loss: 0.6810, Accuracy: 57.19%\n",
      "Validation Epoch [9/20], Loss: 0.6938, Accuracy: 58.55%, F1 Score: 0.5201\n"
     ]
    },
    {
     "name": "stderr",
     "output_type": "stream",
     "text": [
      "Training Epoch 10/20: 100%|██████████| 397/397 [01:12<00:00,  5.49batch/s]\n",
      "Validation Epoch 10/20: 100%|██████████| 94/94 [00:09<00:00, 10.10batch/s]\n"
     ]
    },
    {
     "name": "stdout",
     "output_type": "stream",
     "text": [
      "Training Epoch [10/20], Loss: 0.6780, Accuracy: 57.81%\n",
      "Validation Epoch [10/20], Loss: 0.6901, Accuracy: 52.27%, F1 Score: 0.5014\n"
     ]
    },
    {
     "name": "stderr",
     "output_type": "stream",
     "text": [
      "Training Epoch 11/20: 100%|██████████| 397/397 [00:47<00:00,  8.44batch/s]\n",
      "Validation Epoch 11/20: 100%|██████████| 94/94 [00:09<00:00, 10.22batch/s]\n"
     ]
    },
    {
     "name": "stdout",
     "output_type": "stream",
     "text": [
      "Training Epoch [11/20], Loss: 0.6729, Accuracy: 58.21%\n",
      "Validation Epoch [11/20], Loss: 0.6905, Accuracy: 49.90%, F1 Score: 0.4855\n"
     ]
    },
    {
     "name": "stderr",
     "output_type": "stream",
     "text": [
      "Training Epoch 12/20: 100%|██████████| 397/397 [00:46<00:00,  8.46batch/s]\n",
      "Validation Epoch 12/20: 100%|██████████| 94/94 [00:09<00:00, 10.20batch/s]\n"
     ]
    },
    {
     "name": "stdout",
     "output_type": "stream",
     "text": [
      "Training Epoch [12/20], Loss: 0.6668, Accuracy: 58.79%\n",
      "Validation Epoch [12/20], Loss: 0.6922, Accuracy: 55.78%, F1 Score: 0.5188\n"
     ]
    },
    {
     "name": "stderr",
     "output_type": "stream",
     "text": [
      "Training Epoch 13/20: 100%|██████████| 397/397 [00:46<00:00,  8.48batch/s]\n",
      "Validation Epoch 13/20: 100%|██████████| 94/94 [00:09<00:00, 10.15batch/s]\n"
     ]
    },
    {
     "name": "stdout",
     "output_type": "stream",
     "text": [
      "Training Epoch [13/20], Loss: 0.6576, Accuracy: 60.12%\n",
      "Validation Epoch [13/20], Loss: 0.6938, Accuracy: 57.88%, F1 Score: 0.5280\n"
     ]
    },
    {
     "name": "stderr",
     "output_type": "stream",
     "text": [
      "Training Epoch 14/20: 100%|██████████| 397/397 [00:46<00:00,  8.45batch/s]\n",
      "Validation Epoch 14/20: 100%|██████████| 94/94 [00:09<00:00, 10.32batch/s]\n"
     ]
    },
    {
     "name": "stdout",
     "output_type": "stream",
     "text": [
      "Training Epoch [14/20], Loss: 0.6468, Accuracy: 61.18%\n",
      "Validation Epoch [14/20], Loss: 0.6936, Accuracy: 51.60%, F1 Score: 0.5014\n"
     ]
    },
    {
     "name": "stderr",
     "output_type": "stream",
     "text": [
      "Training Epoch 15/20: 100%|██████████| 397/397 [00:46<00:00,  8.60batch/s]\n",
      "Validation Epoch 15/20: 100%|██████████| 94/94 [00:12<00:00,  7.40batch/s]\n"
     ]
    },
    {
     "name": "stdout",
     "output_type": "stream",
     "text": [
      "Training Epoch [15/20], Loss: 0.6302, Accuracy: 63.51%\n",
      "Validation Epoch [15/20], Loss: 0.7020, Accuracy: 52.35%, F1 Score: 0.5034\n"
     ]
    },
    {
     "name": "stderr",
     "output_type": "stream",
     "text": [
      "Training Epoch 16/20: 100%|██████████| 397/397 [00:46<00:00,  8.54batch/s]\n",
      "Validation Epoch 16/20: 100%|██████████| 94/94 [00:10<00:00,  8.99batch/s]\n"
     ]
    },
    {
     "name": "stdout",
     "output_type": "stream",
     "text": [
      "Training Epoch [16/20], Loss: 0.6059, Accuracy: 65.97%\n",
      "Validation Epoch [16/20], Loss: 0.7213, Accuracy: 50.92%, F1 Score: 0.4953\n"
     ]
    },
    {
     "name": "stderr",
     "output_type": "stream",
     "text": [
      "Training Epoch 17/20: 100%|██████████| 397/397 [00:46<00:00,  8.53batch/s]\n",
      "Validation Epoch 17/20: 100%|██████████| 94/94 [00:09<00:00, 10.27batch/s]\n"
     ]
    },
    {
     "name": "stdout",
     "output_type": "stream",
     "text": [
      "Training Epoch [17/20], Loss: 0.5782, Accuracy: 69.03%\n",
      "Validation Epoch [17/20], Loss: 0.7513, Accuracy: 63.18%, F1 Score: 0.5553\n"
     ]
    },
    {
     "name": "stderr",
     "output_type": "stream",
     "text": [
      "Training Epoch 18/20: 100%|██████████| 397/397 [00:46<00:00,  8.57batch/s]\n",
      "Validation Epoch 18/20: 100%|██████████| 94/94 [00:09<00:00, 10.16batch/s]\n"
     ]
    },
    {
     "name": "stdout",
     "output_type": "stream",
     "text": [
      "Training Epoch [18/20], Loss: 0.5443, Accuracy: 72.23%\n",
      "Validation Epoch [18/20], Loss: 0.7777, Accuracy: 54.27%, F1 Score: 0.5212\n"
     ]
    },
    {
     "name": "stderr",
     "output_type": "stream",
     "text": [
      "Training Epoch 19/20: 100%|██████████| 397/397 [00:46<00:00,  8.56batch/s]\n",
      "Validation Epoch 19/20: 100%|██████████| 94/94 [00:09<00:00, 10.25batch/s]\n"
     ]
    },
    {
     "name": "stdout",
     "output_type": "stream",
     "text": [
      "Training Epoch [19/20], Loss: 0.5022, Accuracy: 75.36%\n",
      "Validation Epoch [19/20], Loss: 0.7911, Accuracy: 55.97%, F1 Score: 0.5261\n"
     ]
    },
    {
     "name": "stderr",
     "output_type": "stream",
     "text": [
      "Training Epoch 20/20: 100%|██████████| 397/397 [00:45<00:00,  8.64batch/s]\n",
      "Validation Epoch 20/20: 100%|██████████| 94/94 [00:09<00:00, 10.21batch/s]\n"
     ]
    },
    {
     "name": "stdout",
     "output_type": "stream",
     "text": [
      "Training Epoch [20/20], Loss: 0.4564, Accuracy: 78.00%\n",
      "Validation Epoch [20/20], Loss: 0.8149, Accuracy: 57.40%, F1 Score: 0.5466\n"
     ]
    }
   ],
   "source": [
    "# Training loop\n",
    "num_epochs = 20\n",
    "for epoch in range(num_epochs):\n",
    "    model.train()  # Set the model to training mode\n",
    "    running_loss = 0.0\n",
    "    correct = 0\n",
    "    total = 0\n",
    "\n",
    "    # Iterate over the training dataset\n",
    "    for images, labels in tqdm(train_dataloader, desc=f'Training Epoch {epoch+1}/{num_epochs}', unit='batch'):\n",
    "        # Move images and labels to the GPU\n",
    "        images, labels = images.to(device), labels.to(device)\n",
    "\n",
    "        # Zero the parameter gradients\n",
    "        optimizer.zero_grad()\n",
    "\n",
    "        # Forward pass\n",
    "        outputs = model(images)\n",
    "        loss = criterion(outputs, labels)\n",
    "        \n",
    "        # Backward pass and optimization\n",
    "        loss.backward()\n",
    "        optimizer.step()\n",
    "\n",
    "        # Compute training accuracy\n",
    "        _, predicted = torch.max(outputs, 1)\n",
    "        total += labels.size(0)\n",
    "        correct += (predicted == labels).sum().item()\n",
    "\n",
    "        # Update running loss\n",
    "        running_loss += loss.item()\n",
    "\n",
    "    # Compute training accuracy and loss for the epoch\n",
    "    train_epoch_loss = running_loss / len(train_dataloader)\n",
    "    train_epoch_accuracy = 100 * correct / total\n",
    "\n",
    "    # Store training loss and accuracy\n",
    "    train_losses.append(train_epoch_loss)\n",
    "    train_accuracies.append(train_epoch_accuracy)\n",
    "\n",
    "    # Validation loop\n",
    "    model.eval()  # Set the model to evaluation mode\n",
    "    val_correct = 0\n",
    "    val_total = 0\n",
    "    val_running_loss = 0.0\n",
    "    val_preds = []\n",
    "    val_targets = []\n",
    "\n",
    "    with torch.no_grad():\n",
    "        for val_images, val_labels in tqdm(val_dataloader, desc=f'Validation Epoch {epoch+1}/{num_epochs}', unit='batch'):\n",
    "            val_images, val_labels = val_images.to(device), val_labels.to(device)\n",
    "            val_outputs = model(val_images)\n",
    "            val_loss = criterion(val_outputs, val_labels)\n",
    "            _, val_predicted = torch.max(val_outputs, 1)\n",
    "            val_total += val_labels.size(0)\n",
    "            val_correct += (val_predicted == val_labels).sum().item()\n",
    "            val_running_loss += val_loss.item()\n",
    "\n",
    "            val_preds.extend(val_predicted.cpu().numpy())\n",
    "            val_targets.extend(val_labels.cpu().numpy())\n",
    "\n",
    "    # Compute validation loss, accuracy, and F1 score for the epoch\n",
    "    val_epoch_loss = val_running_loss / len(val_dataloader)\n",
    "    val_epoch_accuracy = 100 * val_correct / val_total\n",
    "    val_f1 = f1_score(val_targets, val_preds, average='macro')\n",
    "    \n",
    "    # Store validation loss, accuracy, and F1 score\n",
    "    val_losses.append(val_epoch_loss)\n",
    "    val_accuracies.append(val_epoch_accuracy)\n",
    "    f1_scores.append(val_f1)\n",
    "\n",
    "    print(f'Training Epoch [{epoch+1}/{num_epochs}], Loss: {train_epoch_loss:.4f}, Accuracy: {train_epoch_accuracy:.2f}%')\n",
    "    print(f'Validation Epoch [{epoch+1}/{num_epochs}], Loss: {val_epoch_loss:.4f}, Accuracy: {val_epoch_accuracy:.2f}%, F1 Score: {val_f1:.4f}')\n",
    "\n",
    "# Save the trained model to a file\n",
    "torch.save(model.state_dict(), \"NaiveCNN.pth\")\n",
    "\n"
   ]
  },
  {
   "cell_type": "code",
   "execution_count": 81,
   "metadata": {},
   "outputs": [
    {
     "data": {
      "image/png": "[encoded data removed]",
      "text/plain": [
       "<Figure size 1000x500 with 1 Axes>"
      ]
     },
     "metadata": {},
     "output_type": "display_data"
    },
    {
     "data": {
      "image/png": "[encoded data removed]",
      "text/plain": [
       "<Figure size 1000x500 with 1 Axes>"
      ]
     },
     "metadata": {},
     "output_type": "display_data"
    },
    {
     "data": {
      "image/png": "[encoded data removed]",
      "text/plain": [
       "<Figure size 800x600 with 2 Axes>"
      ]
     },
     "metadata": {},
     "output_type": "display_data"
    }
   ],
   "source": [
    "import matplotlib.pyplot as plt\n",
    "import numpy as np\n",
    "from sklearn.metrics import confusion_matrix\n",
    "import seaborn as sns\n",
    "\n",
    "# Plot Loss Curve\n",
    "plt.figure(figsize=(10, 5))\n",
    "plt.plot(train_losses, label='Train Loss')\n",
    "plt.plot(val_losses, label='Validation Loss')\n",
    "plt.xlabel('Epoch')\n",
    "plt.ylabel('Loss')\n",
    "plt.title('Loss Curve')\n",
    "plt.legend()\n",
    "plt.show()\n",
    "\n",
    "# Plot Accuracy Curve\n",
    "plt.figure(figsize=(10, 5))\n",
    "plt.plot(train_accuracies, label='Train Accuracy')\n",
    "plt.plot(val_accuracies, label='Validation Accuracy')\n",
    "plt.xlabel('Epoch')\n",
    "plt.ylabel('Accuracy (%)')\n",
    "plt.title('Accuracy Curve')\n",
    "plt.legend()\n",
    "plt.show()\n",
    "\n",
    "# Plot Confusion Matrix\n",
    "model.eval()  # Ensure model is in evaluation mode\n",
    "val_preds = []\n",
    "val_targets = []\n",
    "\n",
    "with torch.no_grad():\n",
    "    for val_images, val_labels in val_dataloader:\n",
    "        val_images, val_labels = val_images.to(device), val_labels.to(device)\n",
    "        val_outputs = model(val_images)\n",
    "        _, val_predicted = torch.max(val_outputs, 1)\n",
    "        val_preds.extend(val_predicted.cpu().numpy())\n",
    "        val_targets.extend(val_labels.cpu().numpy())\n",
    "\n",
    "cm = confusion_matrix(val_targets, val_preds)\n",
    "plt.figure(figsize=(8, 6))\n",
    "sns.heatmap(cm, annot=True, fmt=\"d\", cmap=\"Blues\", xticklabels=['0', '1'], yticklabels=['0', '1'])\n",
    "plt.xlabel('Predicted')\n",
    "plt.ylabel('True')\n",
    "plt.title('Confusion Matrix')\n",
    "plt.show()\n"
   ]
  },
  {
   "cell_type": "code",
   "execution_count": null,
   "metadata": {},
   "outputs": [],
   "source": [
    "# Potential code, using pre-trained RN34 / RN50\n",
    "import torch\n",
    "import torch.nn as nn\n",
    "import torch.optim as optim\n",
    "import torchvision.models as models\n",
    "\n",
    "# Check if GPU is available\n",
    "device = torch.device(\"cuda\" if torch.cuda.is_available() else \"cpu\")\n",
    "\n",
    "# Define the model\n",
    "class BinaryClassifier(nn.Module):\n",
    "    def __init__(self, num_classes=1):\n",
    "        super(BinaryClassifier, self).__init__()\n",
    "        \n",
    "        # Load the pre-trained ResNet34 model and freeze its parameters\n",
    "        self.resnet = models.resnet34(pretrained=True)\n",
    "        num_ftrs = self.resnet.fc.in_features\n",
    "        for param in self.resnet.parameters():\n",
    "            param.requires_grad = False\n",
    "\n",
    "        # Replace the last fully connected layer with an identity layer\n",
    "        self.resnet.fc = nn.Identity()\n",
    "\n",
    "        # Define the fully connected layers\n",
    "        self.fc1 = nn.Linear(num_ftrs, 256)\n",
    "        self.fc2 = nn.Linear(256, 128)\n",
    "        self.fc3 = nn.Linear(128, num_classes)\n",
    "        \n",
    "    def forward(self, x):\n",
    "        # Pass the input through the pre-trained ResNet34\n",
    "        x = self.resnet(x)\n",
    "        \n",
    "        # Flatten the output of ResNet\n",
    "        x = x.view(x.size(0), -1)\n",
    "        \n",
    "        # Pass the flattened output through the fully connected layers\n",
    "        x = torch.relu(self.fc1(x))\n",
    "        x = torch.relu(self.fc2(x))\n",
    "        x = torch.sigmoid(self.fc3(x))\n",
    "        \n",
    "        return x\n",
    "\n",
    "# Initialize the model\n",
    "model = BinaryClassifier().to(device)\n",
    "\n",
    "# Define the loss function and optimizer\n",
    "criterion = nn.BCELoss()\n",
    "optimizer = optim.Adam(model.parameters(), lr=0.001)"
   ]
  }
 ],
 "metadata": {
  "kernelspec": {
   "display_name": "m_env",
   "language": "python",
   "name": "python3"
  },
  "language_info": {
   "codemirror_mode": {
    "name": "ipython",
    "version": 3
   },
   "file_extension": ".py",
   "mimetype": "text/x-python",
   "name": "python",
   "nbconvert_exporter": "python",
   "pygments_lexer": "ipython3",
   "version": "3.10.13"
  }
 },
 "nbformat": 4,
 "nbformat_minor": 2
}
