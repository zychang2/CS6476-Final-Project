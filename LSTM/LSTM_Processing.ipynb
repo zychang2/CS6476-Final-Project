{
 "cells": [
  {
   "cell_type": "code",
   "execution_count": 1,
   "metadata": {},
   "outputs": [
    {
     "name": "stderr",
     "output_type": "stream",
     "text": [
      "/home/samuel/.local/lib/python3.8/site-packages/pandas/core/computation/expressions.py:20: UserWarning: Pandas requires version '2.7.3' or newer of 'numexpr' (version '2.7.1' currently installed).\n",
      "  from pandas.core.computation.check import NUMEXPR_INSTALLED\n"
     ]
    }
   ],
   "source": [
    "import os\n",
    "import sys\n",
    "import numpy as np\n",
    "import pandas as pd\n",
    "import torch\n",
    "import torch.nn as nn"
   ]
  },
  {
   "cell_type": "code",
   "execution_count": 2,
   "metadata": {},
   "outputs": [],
   "source": [
    "data_tr = pd.read_csv(\"dataset/labels_tr.csv\")"
   ]
  },
  {
   "cell_type": "code",
   "execution_count": 3,
   "metadata": {},
   "outputs": [],
   "source": [
    "data_val = pd.read_csv(\"dataset/labels_val.csv\")"
   ]
  },
  {
   "cell_type": "code",
   "execution_count": 4,
   "metadata": {},
   "outputs": [],
   "source": [
    "train_data = np.zeros((25), dtype=int)\n",
    "for i in range (0, len(data_tr), 25):\n",
    "    train_data = np.vstack((train_data, data_tr['predicted'].loc[i:i+24].values.astype(np.int64)))\n",
    "train_data = np.delete(train_data, 0, 0)"
   ]
  },
  {
   "cell_type": "code",
   "execution_count": 5,
   "metadata": {},
   "outputs": [],
   "source": [
    "val_data = np.zeros((25), dtype=int)\n",
    "for i in range (0, len(data_val), 25):\n",
    "    val_data = np.vstack((val_data, data_val['predicted'].loc[i:i+24].values.astype(np.int64)))\n",
    "val_data = np.delete(val_data, 0, 0)"
   ]
  },
  {
   "cell_type": "code",
   "execution_count": 6,
   "metadata": {},
   "outputs": [],
   "source": [
    "actual_train = np.zeros((25), dtype=int)\n",
    "for i in range (0, len(data_tr), 25):\n",
    "    actual_train = np.vstack((actual_train, data_tr['target'].loc[i:i+24].values.astype(np.int64)))\n",
    "actual_train = np.delete(actual_train, 0, 0)\n",
    "\n",
    "actual_val = np.zeros((25), dtype=int)\n",
    "for i in range (0, len(data_val), 25):\n",
    "    actual_val = np.vstack((actual_val, data_val['target'].loc[i:i+24].values.astype(np.int64)))\n",
    "actual_val = np.delete(actual_val, 0, 0)"
   ]
  },
  {
   "cell_type": "code",
   "execution_count": 7,
   "metadata": {},
   "outputs": [
    {
     "data": {
      "text/plain": [
       "(240, 25)"
      ]
     },
     "execution_count": 7,
     "metadata": {},
     "output_type": "execute_result"
    }
   ],
   "source": [
    "val_data.shape"
   ]
  },
  {
   "cell_type": "code",
   "execution_count": 8,
   "metadata": {},
   "outputs": [],
   "source": [
    "def encode_targets(input_data):\n",
    "    encoded_targets = []\n",
    "    for sequence in input_data:\n",
    "        target = [0] * len(sequence)\n",
    "        prev_val = 0\n",
    "        for i, val in enumerate(sequence):\n",
    "            if val == 1 and prev_val == 0:\n",
    "                target[i] = 1\n",
    "            prev_val = val\n",
    "        encoded_targets.append(target)\n",
    "    return encoded_targets\n",
    "\n",
    "labels_train = encode_targets(train_data)\n",
    "labels_train = np.array(labels_train)"
   ]
  },
  {
   "cell_type": "code",
   "execution_count": 9,
   "metadata": {},
   "outputs": [],
   "source": [
    "labels_val = encode_targets(val_data)\n",
    "labels_val = np.array(labels_val)"
   ]
  },
  {
   "cell_type": "code",
   "execution_count": 10,
   "metadata": {},
   "outputs": [],
   "source": [
    "actual_train_labels = encode_targets(actual_train)\n",
    "actual_train_labels = np.array(actual_train_labels)\n",
    "\n",
    "\n",
    "actual_val_labels = encode_targets(actual_val)\n",
    "actual_val_labels = np.array(actual_val_labels)"
   ]
  },
  {
   "cell_type": "code",
   "execution_count": 11,
   "metadata": {},
   "outputs": [
    {
     "data": {
      "text/plain": [
       "(1015, 25)"
      ]
     },
     "execution_count": 11,
     "metadata": {},
     "output_type": "execute_result"
    }
   ],
   "source": [
    "#train_data = np.reshape(train_data, (train_data.shape[0], train_data.shape[1], 1))\n",
    "#val_data = np.reshape(val_data, (val_data.shape[0], val_data.shape[1], 1))\n",
    "train_data.shape"
   ]
  },
  {
   "cell_type": "code",
   "execution_count": 12,
   "metadata": {},
   "outputs": [
    {
     "data": {
      "text/plain": [
       "(240, 25)"
      ]
     },
     "execution_count": 12,
     "metadata": {},
     "output_type": "execute_result"
    }
   ],
   "source": [
    "val_data.shape"
   ]
  },
  {
   "cell_type": "code",
   "execution_count": 13,
   "metadata": {},
   "outputs": [],
   "source": [
    "train_tensor = torch.from_numpy(train_data).float()\n",
    "train_tensor = train_tensor.unsqueeze(2)\n",
    "\n",
    "val_tensor = torch.from_numpy(val_data).float()\n",
    "val_tensor = val_tensor.unsqueeze(2)\n",
    "\n",
    "target_tensor = torch.from_numpy(labels_train).float()\n"
   ]
  },
  {
   "cell_type": "code",
   "execution_count": 14,
   "metadata": {},
   "outputs": [],
   "source": [
    "#target_tensor.unsqueeze_(2)"
   ]
  },
  {
   "cell_type": "code",
   "execution_count": 15,
   "metadata": {},
   "outputs": [
    {
     "data": {
      "text/plain": [
       "torch.Size([1015, 25])"
      ]
     },
     "execution_count": 15,
     "metadata": {},
     "output_type": "execute_result"
    }
   ],
   "source": [
    "target_tensor.shape"
   ]
  },
  {
   "cell_type": "code",
   "execution_count": 16,
   "metadata": {},
   "outputs": [
    {
     "name": "stdout",
     "output_type": "stream",
     "text": [
      "tensor([ 0.5150, 17.2151])\n"
     ]
    }
   ],
   "source": [
    "from sklearn.utils.class_weight import compute_class_weight\n",
    "\n",
    "# Calculate class weights\n",
    "class_weights = compute_class_weight('balanced', classes=np.unique(np.array([0, 1])), y=target_tensor.numpy().flatten())\n",
    "class_weights = torch.tensor(class_weights, dtype=torch.float32)#.to(device)\n",
    "print(class_weights)"
   ]
  },
  {
   "cell_type": "code",
   "execution_count": 17,
   "metadata": {},
   "outputs": [],
   "source": [
    "class_weights = torch.tensor([0.5150, 17.2151], dtype=torch.float32)"
   ]
  },
  {
   "cell_type": "code",
   "execution_count": 18,
   "metadata": {},
   "outputs": [
    {
     "name": "stdout",
     "output_type": "stream",
     "text": [
      "Epoch [10/400], Loss: 7382.5425\n",
      "Epoch [20/400], Loss: 7146.0913\n",
      "Epoch [30/400], Loss: 7036.6855\n",
      "Epoch [40/400], Loss: 6956.2563\n",
      "Epoch [50/400], Loss: 6917.3877\n",
      "Epoch [60/400], Loss: 6886.5474\n",
      "Epoch [70/400], Loss: 6852.4194\n",
      "Epoch [80/400], Loss: 6834.5142\n",
      "Epoch [90/400], Loss: 6815.3823\n",
      "Epoch [100/400], Loss: 6801.1035\n",
      "Epoch [110/400], Loss: 6791.4834\n",
      "Epoch [120/400], Loss: 6786.1235\n",
      "Epoch [130/400], Loss: 6782.6299\n",
      "Epoch [140/400], Loss: 6780.1870\n",
      "Epoch [150/400], Loss: 6778.6484\n",
      "Epoch [160/400], Loss: 6777.6455\n",
      "Epoch [170/400], Loss: 6776.9360\n",
      "Epoch [180/400], Loss: 6776.4131\n",
      "Epoch [190/400], Loss: 6776.0039\n",
      "Epoch [200/400], Loss: 6775.6787\n",
      "Epoch [210/400], Loss: 6775.4150\n",
      "Epoch [220/400], Loss: 6775.1958\n",
      "Epoch [230/400], Loss: 6775.0122\n",
      "Epoch [240/400], Loss: 6774.8540\n",
      "Epoch [250/400], Loss: 6774.7168\n",
      "Epoch [260/400], Loss: 6774.5972\n",
      "Epoch [270/400], Loss: 6774.4995\n",
      "Epoch [280/400], Loss: 6774.4370\n",
      "Epoch [290/400], Loss: 6774.3311\n",
      "Epoch [300/400], Loss: 6774.2520\n",
      "Epoch [310/400], Loss: 6774.1841\n",
      "Epoch [320/400], Loss: 6774.1235\n",
      "Epoch [330/400], Loss: 6774.0684\n",
      "Epoch [340/400], Loss: 6774.0171\n",
      "Epoch [350/400], Loss: 6773.9702\n",
      "Epoch [360/400], Loss: 6773.9292\n",
      "Epoch [370/400], Loss: 6773.8916\n",
      "Epoch [380/400], Loss: 6773.8574\n",
      "Epoch [390/400], Loss: 6773.8252\n",
      "Epoch [400/400], Loss: 6773.7944\n"
     ]
    }
   ],
   "source": [
    "import torch.optim as optim\n",
    "\n",
    "class BiLSTM(nn.Module):\n",
    "    def __init__(self, input_size, hidden_size, num_layers):\n",
    "        super(BiLSTM, self).__init__()\n",
    "        self.hidden_size = hidden_size\n",
    "        self.num_layers = num_layers\n",
    "        self.lstm = nn.LSTM(input_size, hidden_size, num_layers, batch_first=True, bidirectional=True)\n",
    "        self.fc = nn.Linear(hidden_size * 2, 1)  # Fully connected layer for binary classification\n",
    "        self.sigmoid = nn.Sigmoid()\n",
    "\n",
    "    def forward(self, x):\n",
    "        h0 = torch.zeros(self.num_layers * 2, x.size(0), self.hidden_size)\n",
    "        c0 = torch.zeros(self.num_layers * 2, x.size(0), self.hidden_size)\n",
    "        out, _ = self.lstm(x, (h0, c0))\n",
    "        out = self.fc(out)\n",
    "        out = self.sigmoid(out)\n",
    "        return out\n",
    "\n",
    "# Hyperparameters\n",
    "input_size = 1  # Input feature size\n",
    "hidden_size = 64\n",
    "num_layers = 1\n",
    "num_epochs = 400\n",
    "learning_rate = 0.005\n",
    "batch_size = 1\n",
    "\n",
    "# Create the model\n",
    "model = BiLSTM(input_size, hidden_size, num_layers)\n",
    "\n",
    "# Loss function and optimizer\n",
    "criterion = nn.CrossEntropyLoss()\n",
    "#criterion = nn.BCEWithLogitsLoss(weight=class_weights)\n",
    "optimizer = optim.Adam(model.parameters(), lr=learning_rate)\n",
    "\n",
    "# Training loop\n",
    "for epoch in range(num_epochs):\n",
    "    optimizer.zero_grad()\n",
    "    outputs = model(train_tensor)\n",
    "    loss = criterion(outputs.view(-1), target_tensor.view(-1))\n",
    "    loss.backward()\n",
    "    optimizer.step()\n",
    "    if (epoch + 1) % 10 == 0:\n",
    "        print(f'Epoch [{epoch + 1}/{num_epochs}], Loss: {loss.item():.4f}')\n",
    "\n",
    "# Train predictions\n",
    "with torch.no_grad():\n",
    "    predictions = model(train_tensor)\n",
    "    predicted_transition_frames = (predictions > 0.5).int()\n",
    "predicted_train = predicted_transition_frames.squeeze().numpy()\n",
    "\n",
    "\n",
    "#val predictions\n",
    "with torch.no_grad():\n",
    "    predictions = model(val_tensor)\n",
    "    predicted_transition_frames = (predictions > 0.5).int()\n",
    "predicted_val = predicted_transition_frames.squeeze().numpy()\n"
   ]
  },
  {
   "cell_type": "code",
   "execution_count": 21,
   "metadata": {},
   "outputs": [],
   "source": [
    "data = pd.DataFrame(predicted_train)\n",
    "data.to_csv('predicted_train.csv', index=False)"
   ]
  },
  {
   "cell_type": "code",
   "execution_count": 22,
   "metadata": {},
   "outputs": [],
   "source": [
    "data = pd.DataFrame(predicted_val)\n",
    "data.to_csv('predicted_val.csv', index=False)"
   ]
  },
  {
   "cell_type": "code",
   "execution_count": 23,
   "metadata": {},
   "outputs": [
    {
     "data": {
      "text/plain": [
       "array([[0, 0, 0, ..., 0, 0, 0],\n",
       "       [0, 0, 0, ..., 0, 0, 0],\n",
       "       [0, 0, 0, ..., 0, 0, 0],\n",
       "       ...,\n",
       "       [0, 0, 0, ..., 0, 0, 0],\n",
       "       [0, 0, 0, ..., 0, 0, 0],\n",
       "       [0, 0, 0, ..., 0, 0, 0]])"
      ]
     },
     "execution_count": 23,
     "metadata": {},
     "output_type": "execute_result"
    }
   ],
   "source": [
    "actual_train_labels"
   ]
  },
  {
   "cell_type": "code",
   "execution_count": 24,
   "metadata": {},
   "outputs": [
    {
     "data": {
      "text/plain": [
       "Text(0.5, -0.1, 'F1 score: 0.93')"
      ]
     },
     "execution_count": 24,
     "metadata": {},
     "output_type": "execute_result"
    },
    {
     "data": {
      "image/png": "[encoded data removed]",
      "text/plain": [
       "<Figure size 800x600 with 2 Axes>"
      ]
     },
     "metadata": {},
     "output_type": "display_data"
    }
   ],
   "source": [
    "from sklearn.metrics import confusion_matrix, f1_score\n",
    "import seaborn as sns\n",
    "import matplotlib.pyplot as plt\n",
    "\n",
    "cm = confusion_matrix(actual_train_labels.flatten(), predicted_train.flatten())\n",
    "plt.figure(figsize=(8, 6))\n",
    "sns.heatmap(cm, annot=True, fmt=\"d\", cmap=\"Blues\", xticklabels=['0', '1'], yticklabels=['0', '1'])\n",
    "plt.xlabel('Predicted')\n",
    "plt.ylabel('True')\n",
    "plt.title('Confusion Matrix')\n",
    "\n",
    "f1 = f1_score(actual_train_labels.flatten(), predicted_train.flatten(), average='macro')\n",
    "plt.text(0.5, -0.1, f'F1 score: {f1:.2f}', horizontalalignment='center', verticalalignment='center', transform=plt.gca().transAxes)\n",
    "#plt.savefig(file_dir + f\"/confmat_{epoch+1}.png\")\n",
    "#plt.close()"
   ]
  },
  {
   "cell_type": "code",
   "execution_count": 25,
   "metadata": {},
   "outputs": [
    {
     "data": {
      "text/plain": [
       "Text(0.5, -0.1, 'F1 score: 0.53')"
      ]
     },
     "execution_count": 25,
     "metadata": {},
     "output_type": "execute_result"
    },
    {
     "data": {
      "image/png": "[encoded data removed]",
      "text/plain": [
       "<Figure size 800x600 with 2 Axes>"
      ]
     },
     "metadata": {},
     "output_type": "display_data"
    }
   ],
   "source": [
    "cm = confusion_matrix(actual_val_labels.flatten(), predicted_val.flatten())\n",
    "plt.figure(figsize=(8, 6))\n",
    "sns.heatmap(cm, annot=True, fmt=\"d\", cmap=\"Blues\", xticklabels=['0', '1'], yticklabels=['0', '1'])\n",
    "plt.xlabel('Predicted')\n",
    "plt.ylabel('True')\n",
    "plt.title('Confusion Matrix')\n",
    "\n",
    "f1 = f1_score(actual_val_labels.flatten(), predicted_val.flatten(), average='macro')\n",
    "plt.text(0.5, -0.1, f'F1 score: {f1:.2f}', horizontalalignment='center', verticalalignment='center', transform=plt.gca().transAxes)\n",
    "#plt.savefig(file_dir + f\"/confmat_{epoch+1}.png\")\n",
    "#plt.close()"
   ]
  },
  {
   "cell_type": "code",
   "execution_count": 26,
   "metadata": {},
   "outputs": [
    {
     "name": "stdout",
     "output_type": "stream",
     "text": [
      "Accuracy: 99.29%\n",
      "Accuracy: 89.30%\n"
     ]
    }
   ],
   "source": [
    "acc_train = np.mean(actual_train_labels.flatten() == predicted_train.flatten())\n",
    "print(f'Accuracy: {acc_train * 100:.2f}%')\n",
    "\n",
    "acc_val = np.mean(actual_val_labels.flatten() == predicted_val.flatten())\n",
    "print(f'Accuracy: {acc_val * 100:.2f}%')"
   ]
  },
  {
   "cell_type": "code",
   "execution_count": null,
   "metadata": {},
   "outputs": [],
   "source": []
  }
 ],
 "metadata": {
  "kernelspec": {
   "display_name": "Python 3",
   "language": "python",
   "name": "python3"
  },
  "language_info": {
   "codemirror_mode": {
    "name": "ipython",
    "version": 3
   },
   "file_extension": ".py",
   "mimetype": "text/x-python",
   "name": "python",
   "nbconvert_exporter": "python",
   "pygments_lexer": "ipython3",
   "version": "3.8.10"
  }
 },
 "nbformat": 4,
 "nbformat_minor": 2
}
