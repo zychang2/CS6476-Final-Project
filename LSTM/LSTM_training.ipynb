{
 "cells": [
  {
   "cell_type": "code",
   "execution_count": 1,
   "metadata": {},
   "outputs": [],
   "source": [
    "import os\n",
    "import sys\n",
    "import numpy as np\n",
    "import pandas as pd\n",
    "import torch\n",
    "import torch.nn as nn"
   ]
  },
  {
   "cell_type": "code",
   "execution_count": 2,
   "metadata": {},
   "outputs": [],
   "source": [
    "data_tr = pd.read_csv(\"dataset/labels_tr.csv\")"
   ]
  },
  {
   "cell_type": "code",
   "execution_count": 3,
   "metadata": {},
   "outputs": [],
   "source": [
    "data_val = pd.read_csv(\"dataset/labels_val.csv\")"
   ]
  },
  {
   "cell_type": "code",
   "execution_count": 4,
   "metadata": {},
   "outputs": [],
   "source": [
    "train_data = np.zeros((25), dtype=int)\n",
    "for i in range (0, len(data_tr), 25):\n",
    "    train_data = np.vstack((train_data, data_tr['predicted'].loc[i:i+24].values.astype(np.int64)))\n",
    "train_data = np.delete(train_data, 0, 0)"
   ]
  },
  {
   "cell_type": "code",
   "execution_count": 5,
   "metadata": {},
   "outputs": [],
   "source": [
    "val_data = np.zeros((25), dtype=int)\n",
    "for i in range (0, len(data_val), 25):\n",
    "    val_data = np.vstack((val_data, data_val['predicted'].loc[i:i+24].values.astype(np.int64)))\n",
    "val_data = np.delete(val_data, 0, 0)"
   ]
  },
  {
   "cell_type": "code",
   "execution_count": 6,
   "metadata": {},
   "outputs": [],
   "source": [
    "actual_train = np.zeros((25), dtype=int)\n",
    "for i in range (0, len(data_tr), 25):\n",
    "    actual_train = np.vstack((actual_train, data_tr['target'].loc[i:i+24].values.astype(np.int64)))\n",
    "actual_train = np.delete(actual_train, 0, 0)\n",
    "\n",
    "actual_val = np.zeros((25), dtype=int)\n",
    "for i in range (0, len(data_val), 25):\n",
    "    actual_val = np.vstack((actual_val, data_val['target'].loc[i:i+24].values.astype(np.int64)))\n",
    "actual_val = np.delete(actual_val, 0, 0)"
   ]
  },
  {
   "cell_type": "code",
   "execution_count": 7,
   "metadata": {},
   "outputs": [
    {
     "data": {
      "text/plain": [
       "(240, 25)"
      ]
     },
     "execution_count": 7,
     "metadata": {},
     "output_type": "execute_result"
    }
   ],
   "source": [
    "val_data.shape"
   ]
  },
  {
   "cell_type": "code",
   "execution_count": 8,
   "metadata": {},
   "outputs": [],
   "source": [
    "def extract_label(input_data):\n",
    "    labels = []\n",
    "    for seq in input_data:\n",
    "        prev_val = 0\n",
    "        if np.all(seq == np.zeros(seq.shape)):\n",
    "            labels.append(0)\n",
    "            continue\n",
    "        for i, val in enumerate(seq):\n",
    "            if val == 1 and prev_val == 0:\n",
    "                labels.append(i - 4)\n",
    "                break\n",
    "    \n",
    "    return np.array(labels)\n"
   ]
  },
  {
   "cell_type": "code",
   "execution_count": 9,
   "metadata": {},
   "outputs": [
    {
     "name": "stdout",
     "output_type": "stream",
     "text": [
      "(1015,)\n",
      "(240,)\n"
     ]
    }
   ],
   "source": [
    "train_labels = extract_label(actual_train)\n",
    "print(train_labels.shape)\n",
    "val_labels = extract_label(actual_val)\n",
    "print(val_labels.shape)"
   ]
  },
  {
   "cell_type": "code",
   "execution_count": 12,
   "metadata": {},
   "outputs": [],
   "source": [
    "train_data = train_data[:, :, np.newaxis]\n",
    "val_data = val_data[:, :, np.newaxis]"
   ]
  },
  {
   "cell_type": "code",
   "execution_count": 13,
   "metadata": {},
   "outputs": [
    {
     "name": "stdout",
     "output_type": "stream",
     "text": [
      "(1015, 25, 1)\n"
     ]
    }
   ],
   "source": [
    "print(train_data.shape)"
   ]
  },
  {
   "cell_type": "code",
   "execution_count": 14,
   "metadata": {},
   "outputs": [
    {
     "name": "stdout",
     "output_type": "stream",
     "text": [
      "cuda\n"
     ]
    }
   ],
   "source": [
    "device = 'cuda' if torch.cuda.is_available() else 'cpu'\n",
    "print(device)"
   ]
  },
  {
   "cell_type": "code",
   "execution_count": 30,
   "metadata": {},
   "outputs": [],
   "source": [
    "X_train = torch.tensor(train_data, dtype=torch.float32).to(device)\n",
    "y_train = torch.tensor(train_labels, dtype=torch.float32).view(-1, 1).to(device)"
   ]
  },
  {
   "cell_type": "code",
   "execution_count": 31,
   "metadata": {},
   "outputs": [],
   "source": [
    "X_val = torch.tensor(val_data, dtype=torch.float32).to(device)\n",
    "y_val = torch.tensor(val_labels, dtype=torch.float32).view(-1, 1).to(device)"
   ]
  },
  {
   "cell_type": "code",
   "execution_count": 234,
   "metadata": {},
   "outputs": [
    {
     "name": "stdout",
     "output_type": "stream",
     "text": [
      "tensor([ 0.1721, 59.7059,  3.9804,  2.4877,  2.0588,  2.3882,  1.4562,  1.3268,\n",
      "         1.3570,  1.0856,  0.9186,  0.9477,  1.0475,  1.0856,  1.1482,  1.0856,\n",
      "         1.4216], device='cuda:0')\n"
     ]
    }
   ],
   "source": [
    "from sklearn.utils.class_weight import compute_class_weight\n",
    "\n",
    "# Calculate class weights\n",
    "class_weights = compute_class_weight('balanced', classes=np.unique(train_labels), y=train_labels)\n",
    "class_weights = torch.tensor(class_weights, dtype=torch.float32).to(device)\n",
    "print(class_weights)"
   ]
  },
  {
   "cell_type": "code",
   "execution_count": 235,
   "metadata": {},
   "outputs": [
    {
     "name": "stdout",
     "output_type": "stream",
     "text": [
      "17 17\n"
     ]
    }
   ],
   "source": [
    "num_classes = len(np.unique(train_labels))\n",
    "print(num_classes, len(class_weights))"
   ]
  },
  {
   "cell_type": "code",
   "execution_count": 246,
   "metadata": {},
   "outputs": [],
   "source": [
    "import torch.nn.functional as F\n",
    "class BiLSTM(nn.Module):\n",
    "    def __init__(self, input_size, hidden_size, num_layers, num_classes):\n",
    "        super(BiLSTM, self).__init__()\n",
    "        self.hidden_size = hidden_size\n",
    "        self.num_layers = num_layers\n",
    "        self.lstm = nn.LSTM(input_size, hidden_size, num_layers, batch_first=True, bidirectional=True)\n",
    "        self.fc1 = nn.Linear(hidden_size*2, 64)\n",
    "        self.fc2 = nn.Linear(64, 256)\n",
    "        self.fc3 = nn.Linear(256, num_classes)\n",
    "        self.drop = nn.Dropout(0.5)\n",
    "        self.relu = nn.LeakyReLU(0.2)\n",
    "\n",
    "        \n",
    "    def forward(self, x):\n",
    "        # Set initial hidden and cell states\n",
    "        h0 = torch.zeros(self.num_layers * 2, x.size(0), self.hidden_size).to(x.device) # 2 for bidirection \n",
    "        c0 = torch.zeros(self.num_layers * 2, x.size(0), self.hidden_size).to(x.device)\n",
    "        \n",
    "        # Forward propagate LSTM\n",
    "        out, _ = self.lstm(x, (h0, c0))  # out: tensor of shape (batch_size, seq_length, hidden_size*2)\n",
    "        # Decode the hidden state of the last time step\n",
    "        out = self.fc1(out[:, -1, :])\n",
    "        # out = self.fc1(out)\n",
    "        out = self.drop(self.relu(out))\n",
    "        out = self.drop(self.relu(self.fc2(out)))\n",
    "        out = self.relu(self.fc3(out))\n",
    "        out = F.softmax(out, dim=-1)\n",
    "        return out"
   ]
  },
  {
   "cell_type": "code",
   "execution_count": 301,
   "metadata": {},
   "outputs": [],
   "source": [
    "class Attention(nn.Module):\n",
    "    def __init__(self, hidden_size):\n",
    "        super(Attention, self).__init__()\n",
    "        self.hidden_size = hidden_size\n",
    "        self.attn = nn.Linear(hidden_size * 2, hidden_size)\n",
    "        self.v = nn.Linear(hidden_size, 1, bias=False)\n",
    "        \n",
    "    def forward(self, encoder_outputs):\n",
    "        # encoder_outputs: [batch_size, seq_len, hidden_size * 2]\n",
    "        energy = torch.tanh(self.attn(encoder_outputs))\n",
    "        attention_scores = self.v(energy).squeeze(2)  # [batch_size, seq_len]\n",
    "        attention_weights = torch.softmax(attention_scores, dim=1)\n",
    "        context_vector = torch.bmm(attention_weights.unsqueeze(1), encoder_outputs).squeeze(1)\n",
    "        return context_vector, attention_weights\n",
    "\n",
    "\n",
    "class AttnLSTM(nn.Module):\n",
    "    def __init__(self, input_size, hidden_size, num_layers, num_classes):\n",
    "        super(AttnLSTM, self).__init__()\n",
    "        self.hidden_size = hidden_size\n",
    "        self.num_layers = num_layers\n",
    "        self.lstm = nn.LSTM(input_size, hidden_size, num_layers, batch_first=True, bidirectional=True)\n",
    "        self.attention = Attention(hidden_size)\n",
    "        self.fc1 = nn.Linear(hidden_size*2, 512) \n",
    "        self.fc2 = nn.Linear(512, 1024)\n",
    "        self.fc3 = nn.Linear(1024, num_classes)\n",
    "        self.drop = nn.Dropout(0.5)\n",
    "        self.relu = nn.LeakyReLU(0.1)\n",
    "\n",
    "        \n",
    "    def forward(self, x):\n",
    "        # Set initial hidden and cell states\n",
    "        h0 = torch.zeros(self.num_layers * 2, x.size(0), self.hidden_size).to(x.device) # 2 for bidirection \n",
    "        c0 = torch.zeros(self.num_layers * 2, x.size(0), self.hidden_size).to(x.device)\n",
    "        \n",
    "        # Forward propagate LSTM\n",
    "        out, _ = self.lstm(x, (h0, c0))  # out: tensor of shape (batch_size, seq_length, hidden_size*2)\n",
    "        context_vector, attention_weights = self.attention(out)\n",
    "        # Decode the hidden state of the last time step\n",
    "        # out = self.fc1(out[:, -1, :])\n",
    "        out = self.fc1(context_vector)\n",
    "        out = self.drop(self.relu(out))\n",
    "        out = self.drop(self.relu(self.fc2(out)))\n",
    "        out = self.relu(self.fc3(out))\n",
    "        return out"
   ]
  },
  {
   "cell_type": "code",
   "execution_count": 258,
   "metadata": {},
   "outputs": [],
   "source": [
    "model = BiLSTM(input_size=1, hidden_size=128, num_layers=4, num_classes=num_classes)"
   ]
  },
  {
   "cell_type": "code",
   "execution_count": 304,
   "metadata": {},
   "outputs": [],
   "source": [
    "model = AttnLSTM(input_size=1, hidden_size=128, num_layers=4, num_classes=num_classes)"
   ]
  },
  {
   "cell_type": "code",
   "execution_count": 305,
   "metadata": {},
   "outputs": [
    {
     "name": "stdout",
     "output_type": "stream",
     "text": [
      "tensor([[ 3.0135e-02,  5.5877e-02, -3.0096e-05,  4.8571e-04, -3.3707e-03,\n",
      "          4.3222e-03,  1.7603e-02,  2.7705e-02, -1.5855e-03,  1.6290e-02,\n",
      "          3.0548e-02, -4.4272e-03,  7.2154e-03,  2.5872e-02,  2.8277e-02,\n",
      "         -2.3536e-03,  6.3353e-02],\n",
      "        [ 4.0565e-02,  4.9306e-02, -3.1312e-03,  3.7056e-04, -7.0708e-03,\n",
      "         -3.0699e-03,  4.1089e-02,  2.3792e-02, -1.7314e-03, -4.1174e-04,\n",
      "          2.5642e-02, -3.9133e-03,  1.1774e-02,  6.3666e-02,  1.6248e-02,\n",
      "          8.8354e-03,  1.8564e-02],\n",
      "        [ 3.2624e-02,  3.7907e-02, -3.7674e-03, -1.5944e-03, -3.5486e-03,\n",
      "         -3.4693e-03,  3.1494e-02,  2.3937e-02, -1.0688e-03, -3.7544e-05,\n",
      "          4.2979e-02, -2.0747e-03, -1.8333e-03,  3.7946e-02,  3.2632e-02,\n",
      "         -6.5362e-04, -3.8310e-04]], grad_fn=<LeakyReluBackward0>)\n"
     ]
    }
   ],
   "source": [
    "test = model(torch.tensor(np.random.randn(3, 25, 1), dtype=torch.float32))\n",
    "print(test)"
   ]
  },
  {
   "cell_type": "code",
   "execution_count": 306,
   "metadata": {},
   "outputs": [],
   "source": [
    "model = model.to(device)"
   ]
  },
  {
   "cell_type": "code",
   "execution_count": 307,
   "metadata": {},
   "outputs": [],
   "source": [
    "import torch.nn as nn\n",
    "import torch.optim as optim\n",
    "from tqdm import tqdm\n",
    "import torch\n",
    "from torchvision import datasets, transforms\n",
    "from torch.utils.data import TensorDataset, DataLoader"
   ]
  },
  {
   "cell_type": "code",
   "execution_count": 308,
   "metadata": {},
   "outputs": [],
   "source": [
    "train_dataset = TensorDataset(X_train, y_train)\n",
    "train_loader = DataLoader(train_dataset, batch_size=16, shuffle=True)\n",
    "val_dataset = TensorDataset(X_val, y_val)\n",
    "val_loader = DataLoader(val_dataset, batch_size=16, shuffle=True)"
   ]
  },
  {
   "cell_type": "code",
   "execution_count": 310,
   "metadata": {},
   "outputs": [],
   "source": [
    "from torch.optim import lr_scheduler\n",
    "criterion = nn.CrossEntropyLoss(weight=class_weights)\n",
    "# criterion = CustomCLELoss(class_weights)\n",
    "optimizer = optim.Adam(model.parameters(), lr=1e-4)\n",
    "scheduler = lr_scheduler.StepLR(optimizer, step_size=10, gamma=0.1)\n",
    "train_accuracies = []\n",
    "val_accuracies = []\n",
    "train_losses = []\n",
    "val_losses = []\n",
    "train_f1s = []\n",
    "val_f1s = []"
   ]
  },
  {
   "cell_type": "code",
   "execution_count": 243,
   "metadata": {},
   "outputs": [
    {
     "name": "stdout",
     "output_type": "stream",
     "text": [
      "6\n"
     ]
    }
   ],
   "source": [
    "expected = np.array([0, 0, 0, 1, 2, 3, 1, 2, 0, 1])\n",
    "prediction = np.array([0, 0, 0, 2, 1, 5, 5, 3, 1, 0])\n",
    "test_logic = np.sum(np.where((expected == 0) | (prediction == 0), expected == prediction, np.abs(prediction - expected) == 1))\n",
    "\n",
    "print(test_logic)"
   ]
  },
  {
   "cell_type": "code",
   "execution_count": 311,
   "metadata": {},
   "outputs": [],
   "source": [
    "import torch\n",
    "import numpy as np\n",
    "from sklearn.metrics import f1_score\n",
    "import torch.nn.functional as F\n",
    "\n",
    "def train(model, train_loader, val_loader, criterion, optimizer, num_classes, epochs=20):\n",
    "    for epoch in range(epochs):\n",
    "        model.train()\n",
    "        running_train_loss = 0.0\n",
    "        correct_train = 0\n",
    "        total_train = 0\n",
    "\n",
    "        # Training loop\n",
    "        for inputs, labels in train_loader:\n",
    "            optimizer.zero_grad()\n",
    "            outputs = model(inputs)\n",
    "            # Convert labels to one-hot encoding\n",
    "            labels_onehot = F.one_hot(labels.long(), num_classes=num_classes).squeeze(1).type(torch.float32)\n",
    "            loss = criterion(outputs, labels_onehot)\n",
    "            loss.backward()\n",
    "            optimizer.step()\n",
    "            running_train_loss += loss.item()\n",
    "\n",
    "            # Append predictions and labels for F1 score calculation\n",
    "            prediction = torch.argmax(outputs, dim=1).cpu().detach().numpy()\n",
    "            expected = torch.argmax(labels_onehot, dim=1).cpu().detach().numpy()\n",
    "            correct_train += np.sum(np.where((expected == 0) | (prediction == 0), expected == prediction, np.abs(prediction - expected) <= 1))\n",
    "            total_train += labels.size(0)\n",
    "            \n",
    "        train_loss = running_train_loss / len(train_loader)\n",
    "\n",
    "        # Calculate F1 score for training data\n",
    "        train_acc = correct_train / total_train\n",
    "        train_losses.append(train_loss)\n",
    "        train_accuracies.append(train_acc)\n",
    "        # Validation loop\n",
    "        model.eval()\n",
    "        running_val_loss = 0.0\n",
    "        correct_val = 0\n",
    "        total_val = 0\n",
    "\n",
    "        with torch.no_grad():\n",
    "            for inputs, labels in val_loader:\n",
    "                outputs = model(inputs)\n",
    "                labels_onehot = F.one_hot(labels.long(), num_classes=num_classes).squeeze(1).type(torch.float32)\n",
    "                loss = criterion(outputs, labels_onehot)\n",
    "                running_val_loss += loss.item()\n",
    "\n",
    "                # Append predictions and labels for F1 score calculation\n",
    "                prediction = torch.argmax(outputs, dim=1).cpu().detach().numpy()\n",
    "                expected = torch.argmax(labels_onehot, dim=1).cpu().detach().numpy()\n",
    "                correct_val += np.sum(np.where((expected == 0) | (prediction == 0), expected == prediction, np.abs(prediction - expected) <= 3))\n",
    "                total_val += labels.size(0)\n",
    "        val_loss = running_val_loss / len(val_loader)\n",
    "\n",
    "        # Calculate F1 score for validation data\n",
    "        val_acc = correct_val / total_val\n",
    "        val_losses.append(val_loss)\n",
    "        val_accuracies.append(val_acc)\n",
    "        print(f\"Epoch {epoch+1}/{epochs},Train Loss: {train_loss:.4f},Train Accuracy: {train_acc:.4f},Val Loss: {val_loss:.4f},Val Accuracy: {val_acc:.4f}\")"
   ]
  },
  {
   "cell_type": "code",
   "execution_count": 312,
   "metadata": {},
   "outputs": [
    {
     "name": "stdout",
     "output_type": "stream",
     "text": [
      "Epoch 1/200,Train Loss: 2.8354,Train Accuracy: 0.2798,Val Loss: 2.8560,Val Accuracy: 0.3333\n",
      "Epoch 2/200,Train Loss: 2.8348,Train Accuracy: 0.2128,Val Loss: 2.8558,Val Accuracy: 0.3458\n",
      "Epoch 3/200,Train Loss: 2.8191,Train Accuracy: 0.2069,Val Loss: 2.8541,Val Accuracy: 0.5292\n",
      "Epoch 4/200,Train Loss: 2.7271,Train Accuracy: 0.4227,Val Loss: 3.5250,Val Accuracy: 0.3958\n",
      "Epoch 5/200,Train Loss: 2.4343,Train Accuracy: 0.4542,Val Loss: 4.2209,Val Accuracy: 0.5750\n",
      "Epoch 6/200,Train Loss: 2.1013,Train Accuracy: 0.7429,Val Loss: 5.6183,Val Accuracy: 0.5375\n",
      "Epoch 7/200,Train Loss: 1.7603,Train Accuracy: 0.8650,Val Loss: 6.9384,Val Accuracy: 0.5208\n",
      "Epoch 8/200,Train Loss: 1.6379,Train Accuracy: 0.8887,Val Loss: 7.4744,Val Accuracy: 0.5875\n",
      "Epoch 9/200,Train Loss: 1.5544,Train Accuracy: 0.9074,Val Loss: 8.0080,Val Accuracy: 0.5333\n",
      "Epoch 10/200,Train Loss: 1.4803,Train Accuracy: 0.9094,Val Loss: 8.4651,Val Accuracy: 0.5542\n",
      "Epoch 11/200,Train Loss: 1.4299,Train Accuracy: 0.9360,Val Loss: 8.3817,Val Accuracy: 0.5500\n",
      "Epoch 12/200,Train Loss: 1.3269,Train Accuracy: 0.9478,Val Loss: 8.3623,Val Accuracy: 0.5500\n",
      "Epoch 13/200,Train Loss: 1.1918,Train Accuracy: 0.9616,Val Loss: 8.2484,Val Accuracy: 0.5625\n",
      "Epoch 14/200,Train Loss: 1.2496,Train Accuracy: 0.9606,Val Loss: 9.3382,Val Accuracy: 0.5458\n",
      "Epoch 15/200,Train Loss: 1.1376,Train Accuracy: 0.9704,Val Loss: 8.9647,Val Accuracy: 0.5625\n",
      "Epoch 16/200,Train Loss: 1.1375,Train Accuracy: 0.9685,Val Loss: 9.3911,Val Accuracy: 0.5583\n",
      "Epoch 17/200,Train Loss: 0.9914,Train Accuracy: 0.9704,Val Loss: 9.8945,Val Accuracy: 0.5542\n",
      "Epoch 18/200,Train Loss: 1.0384,Train Accuracy: 0.9704,Val Loss: 8.5903,Val Accuracy: 0.5208\n",
      "Epoch 19/200,Train Loss: 1.0094,Train Accuracy: 0.9714,Val Loss: 10.0613,Val Accuracy: 0.5625\n",
      "Epoch 20/200,Train Loss: 0.9074,Train Accuracy: 0.9764,Val Loss: 9.8055,Val Accuracy: 0.5542\n",
      "Epoch 21/200,Train Loss: 1.0268,Train Accuracy: 0.9724,Val Loss: 9.7934,Val Accuracy: 0.5500\n",
      "Epoch 22/200,Train Loss: 0.9543,Train Accuracy: 0.9695,Val Loss: 10.2337,Val Accuracy: 0.5542\n",
      "Epoch 23/200,Train Loss: 0.9441,Train Accuracy: 0.9675,Val Loss: 9.7198,Val Accuracy: 0.5500\n",
      "Epoch 24/200,Train Loss: 0.8456,Train Accuracy: 0.9823,Val Loss: 10.0196,Val Accuracy: 0.5583\n",
      "Epoch 25/200,Train Loss: 0.8364,Train Accuracy: 0.9744,Val Loss: 10.0027,Val Accuracy: 0.5583\n",
      "Epoch 26/200,Train Loss: 0.8544,Train Accuracy: 0.9704,Val Loss: 10.2396,Val Accuracy: 0.5625\n",
      "Epoch 27/200,Train Loss: 0.7716,Train Accuracy: 0.9764,Val Loss: 10.0997,Val Accuracy: 0.5542\n",
      "Epoch 28/200,Train Loss: 0.8531,Train Accuracy: 0.9783,Val Loss: 10.1550,Val Accuracy: 0.5583\n",
      "Epoch 29/200,Train Loss: 0.7205,Train Accuracy: 0.9823,Val Loss: 10.1719,Val Accuracy: 0.5625\n",
      "Epoch 30/200,Train Loss: 0.7852,Train Accuracy: 0.9783,Val Loss: 10.7754,Val Accuracy: 0.5583\n",
      "Epoch 31/200,Train Loss: 0.9171,Train Accuracy: 0.9773,Val Loss: 10.1581,Val Accuracy: 0.5458\n",
      "Epoch 32/200,Train Loss: 0.8938,Train Accuracy: 0.9704,Val Loss: 10.0296,Val Accuracy: 0.5417\n",
      "Epoch 33/200,Train Loss: 0.8305,Train Accuracy: 0.9714,Val Loss: 10.4425,Val Accuracy: 0.5500\n",
      "Epoch 34/200,Train Loss: 0.7631,Train Accuracy: 0.9744,Val Loss: 9.1225,Val Accuracy: 0.5542\n",
      "Epoch 35/200,Train Loss: 0.7636,Train Accuracy: 0.9803,Val Loss: 10.5637,Val Accuracy: 0.5542\n",
      "Epoch 36/200,Train Loss: 0.7101,Train Accuracy: 0.9823,Val Loss: 10.6698,Val Accuracy: 0.5625\n",
      "Epoch 37/200,Train Loss: 0.6666,Train Accuracy: 0.9833,Val Loss: 10.3141,Val Accuracy: 0.5458\n",
      "Epoch 38/200,Train Loss: 0.6842,Train Accuracy: 0.9842,Val Loss: 10.7425,Val Accuracy: 0.5667\n",
      "Epoch 39/200,Train Loss: 0.6914,Train Accuracy: 0.9862,Val Loss: 10.5845,Val Accuracy: 0.5500\n",
      "Epoch 40/200,Train Loss: 0.6357,Train Accuracy: 0.9833,Val Loss: 10.6139,Val Accuracy: 0.5542\n",
      "Epoch 41/200,Train Loss: 0.7579,Train Accuracy: 0.9833,Val Loss: 10.6058,Val Accuracy: 0.5458\n",
      "Epoch 42/200,Train Loss: 0.6826,Train Accuracy: 0.9803,Val Loss: 10.3860,Val Accuracy: 0.5500\n",
      "Epoch 43/200,Train Loss: 0.7202,Train Accuracy: 0.9764,Val Loss: 10.2884,Val Accuracy: 0.5542\n",
      "Epoch 44/200,Train Loss: 0.6939,Train Accuracy: 0.9842,Val Loss: 10.5267,Val Accuracy: 0.5417\n",
      "Epoch 45/200,Train Loss: 0.6342,Train Accuracy: 0.9823,Val Loss: 10.0887,Val Accuracy: 0.5500\n",
      "Epoch 46/200,Train Loss: 0.7117,Train Accuracy: 0.9773,Val Loss: 10.2167,Val Accuracy: 0.5625\n",
      "Epoch 47/200,Train Loss: 0.6622,Train Accuracy: 0.9833,Val Loss: 10.2813,Val Accuracy: 0.5625\n",
      "Epoch 48/200,Train Loss: 0.6382,Train Accuracy: 0.9823,Val Loss: 10.6043,Val Accuracy: 0.5542\n",
      "Epoch 49/200,Train Loss: 0.6344,Train Accuracy: 0.9842,Val Loss: 10.3409,Val Accuracy: 0.5542\n",
      "Epoch 50/200,Train Loss: 0.6206,Train Accuracy: 0.9852,Val Loss: 10.2931,Val Accuracy: 0.5500\n",
      "Epoch 51/200,Train Loss: 0.6429,Train Accuracy: 0.9852,Val Loss: 10.3527,Val Accuracy: 0.5667\n",
      "Epoch 52/200,Train Loss: 0.6475,Train Accuracy: 0.9783,Val Loss: 10.5122,Val Accuracy: 0.5583\n",
      "Epoch 53/200,Train Loss: 0.6494,Train Accuracy: 0.9764,Val Loss: 9.9824,Val Accuracy: 0.5583\n",
      "Epoch 54/200,Train Loss: 0.6376,Train Accuracy: 0.9823,Val Loss: 10.4436,Val Accuracy: 0.5583\n",
      "Epoch 55/200,Train Loss: 0.9799,Train Accuracy: 0.9724,Val Loss: 10.2604,Val Accuracy: 0.5500\n",
      "Epoch 56/200,Train Loss: 0.5836,Train Accuracy: 0.9773,Val Loss: 9.9796,Val Accuracy: 0.5583\n",
      "Epoch 57/200,Train Loss: 0.6884,Train Accuracy: 0.9842,Val Loss: 10.2502,Val Accuracy: 0.5583\n",
      "Epoch 58/200,Train Loss: 0.6344,Train Accuracy: 0.9833,Val Loss: 10.6001,Val Accuracy: 0.5875\n",
      "Epoch 59/200,Train Loss: 0.5944,Train Accuracy: 0.9842,Val Loss: 10.5454,Val Accuracy: 0.5833\n",
      "Epoch 60/200,Train Loss: 0.6141,Train Accuracy: 0.9852,Val Loss: 11.0931,Val Accuracy: 0.5958\n",
      "Epoch 61/200,Train Loss: 0.6410,Train Accuracy: 0.9833,Val Loss: 10.5792,Val Accuracy: 0.5792\n",
      "Epoch 62/200,Train Loss: 0.6299,Train Accuracy: 0.9813,Val Loss: 10.8496,Val Accuracy: 0.5792\n",
      "Epoch 63/200,Train Loss: 0.5852,Train Accuracy: 0.9833,Val Loss: 11.1258,Val Accuracy: 0.5833\n",
      "Epoch 64/200,Train Loss: 0.5721,Train Accuracy: 0.9852,Val Loss: 11.0254,Val Accuracy: 0.5750\n",
      "Epoch 65/200,Train Loss: 0.5765,Train Accuracy: 0.9823,Val Loss: 10.7690,Val Accuracy: 0.5833\n",
      "Epoch 66/200,Train Loss: 0.5354,Train Accuracy: 0.9852,Val Loss: 10.9666,Val Accuracy: 0.5792\n",
      "Epoch 67/200,Train Loss: 0.6252,Train Accuracy: 0.9842,Val Loss: 10.8266,Val Accuracy: 0.5750\n",
      "Epoch 68/200,Train Loss: 0.5474,Train Accuracy: 0.9842,Val Loss: 11.1951,Val Accuracy: 0.5750\n",
      "Epoch 69/200,Train Loss: 0.5635,Train Accuracy: 0.9842,Val Loss: 11.0968,Val Accuracy: 0.5833\n",
      "Epoch 70/200,Train Loss: 0.5145,Train Accuracy: 0.9833,Val Loss: 11.1387,Val Accuracy: 0.5875\n",
      "Epoch 71/200,Train Loss: 0.6564,Train Accuracy: 0.9793,Val Loss: 10.6511,Val Accuracy: 0.5750\n",
      "Epoch 72/200,Train Loss: 0.5642,Train Accuracy: 0.9852,Val Loss: 10.9992,Val Accuracy: 0.5792\n",
      "Epoch 73/200,Train Loss: 0.6481,Train Accuracy: 0.9852,Val Loss: 10.9144,Val Accuracy: 0.5750\n",
      "Epoch 74/200,Train Loss: 0.6410,Train Accuracy: 0.9833,Val Loss: 11.0160,Val Accuracy: 0.5750\n",
      "Epoch 75/200,Train Loss: 0.7885,Train Accuracy: 0.9793,Val Loss: 11.0547,Val Accuracy: 0.5750\n",
      "Epoch 76/200,Train Loss: 0.6338,Train Accuracy: 0.9852,Val Loss: 10.9087,Val Accuracy: 0.5792\n",
      "Epoch 77/200,Train Loss: 0.5500,Train Accuracy: 0.9842,Val Loss: 10.7567,Val Accuracy: 0.5833\n",
      "Epoch 78/200,Train Loss: 0.5463,Train Accuracy: 0.9813,Val Loss: 11.0871,Val Accuracy: 0.5792\n",
      "Epoch 79/200,Train Loss: 0.5141,Train Accuracy: 0.9852,Val Loss: 10.9500,Val Accuracy: 0.5833\n",
      "Epoch 80/200,Train Loss: 0.5152,Train Accuracy: 0.9833,Val Loss: 11.2097,Val Accuracy: 0.5792\n",
      "Epoch 81/200,Train Loss: 0.5203,Train Accuracy: 0.9852,Val Loss: 11.3535,Val Accuracy: 0.5875\n",
      "Epoch 82/200,Train Loss: 0.5823,Train Accuracy: 0.9842,Val Loss: 11.2836,Val Accuracy: 0.5875\n",
      "Epoch 83/200,Train Loss: 0.5383,Train Accuracy: 0.9852,Val Loss: 11.4261,Val Accuracy: 0.5833\n",
      "Epoch 84/200,Train Loss: 0.5426,Train Accuracy: 0.9842,Val Loss: 10.8543,Val Accuracy: 0.5792\n",
      "Epoch 85/200,Train Loss: 0.5768,Train Accuracy: 0.9813,Val Loss: 11.0143,Val Accuracy: 0.5792\n",
      "Epoch 86/200,Train Loss: 0.4879,Train Accuracy: 0.9852,Val Loss: 11.1968,Val Accuracy: 0.5833\n",
      "Epoch 87/200,Train Loss: 0.5149,Train Accuracy: 0.9852,Val Loss: 11.2298,Val Accuracy: 0.5792\n",
      "Epoch 88/200,Train Loss: 0.4876,Train Accuracy: 0.9852,Val Loss: 11.3242,Val Accuracy: 0.5833\n",
      "Epoch 89/200,Train Loss: 0.4904,Train Accuracy: 0.9842,Val Loss: 11.4406,Val Accuracy: 0.5875\n",
      "Epoch 90/200,Train Loss: 0.4920,Train Accuracy: 0.9862,Val Loss: 11.0040,Val Accuracy: 0.5750\n",
      "Epoch 91/200,Train Loss: 0.5123,Train Accuracy: 0.9852,Val Loss: 11.1482,Val Accuracy: 0.5708\n",
      "Epoch 92/200,Train Loss: 0.4941,Train Accuracy: 0.9842,Val Loss: 11.3996,Val Accuracy: 0.5792\n",
      "Epoch 93/200,Train Loss: 0.5104,Train Accuracy: 0.9852,Val Loss: 10.9965,Val Accuracy: 0.5708\n",
      "Epoch 94/200,Train Loss: 0.5023,Train Accuracy: 0.9852,Val Loss: 11.3018,Val Accuracy: 0.5667\n",
      "Epoch 95/200,Train Loss: 0.4898,Train Accuracy: 0.9833,Val Loss: 11.3524,Val Accuracy: 0.5708\n",
      "Epoch 96/200,Train Loss: 0.5207,Train Accuracy: 0.9862,Val Loss: 11.5160,Val Accuracy: 0.5833\n",
      "Epoch 97/200,Train Loss: 0.5258,Train Accuracy: 0.9852,Val Loss: 11.1531,Val Accuracy: 0.5792\n",
      "Epoch 98/200,Train Loss: 0.5285,Train Accuracy: 0.9813,Val Loss: 11.4130,Val Accuracy: 0.5792\n",
      "Epoch 99/200,Train Loss: 0.4986,Train Accuracy: 0.9852,Val Loss: 11.3886,Val Accuracy: 0.5792\n",
      "Epoch 100/200,Train Loss: 0.4759,Train Accuracy: 0.9823,Val Loss: 11.3789,Val Accuracy: 0.5792\n",
      "Epoch 101/200,Train Loss: 0.4982,Train Accuracy: 0.9852,Val Loss: 11.8351,Val Accuracy: 0.5833\n",
      "Epoch 102/200,Train Loss: 0.5170,Train Accuracy: 0.9862,Val Loss: 11.4388,Val Accuracy: 0.5875\n",
      "Epoch 103/200,Train Loss: 0.5081,Train Accuracy: 0.9823,Val Loss: 11.3390,Val Accuracy: 0.5750\n",
      "Epoch 104/200,Train Loss: 0.5077,Train Accuracy: 0.9862,Val Loss: 11.4231,Val Accuracy: 0.5792\n",
      "Epoch 105/200,Train Loss: 0.5053,Train Accuracy: 0.9842,Val Loss: 11.7049,Val Accuracy: 0.5750\n",
      "Epoch 106/200,Train Loss: 0.4670,Train Accuracy: 0.9852,Val Loss: 11.6384,Val Accuracy: 0.5750\n",
      "Epoch 107/200,Train Loss: 0.4587,Train Accuracy: 0.9862,Val Loss: 11.3789,Val Accuracy: 0.5792\n",
      "Epoch 108/200,Train Loss: 0.4702,Train Accuracy: 0.9872,Val Loss: 11.3889,Val Accuracy: 0.5750\n",
      "Epoch 109/200,Train Loss: 0.4984,Train Accuracy: 0.9842,Val Loss: 12.0101,Val Accuracy: 0.5667\n",
      "Epoch 110/200,Train Loss: 0.6022,Train Accuracy: 0.9793,Val Loss: 11.5148,Val Accuracy: 0.5750\n",
      "Epoch 111/200,Train Loss: 0.4966,Train Accuracy: 0.9842,Val Loss: 11.8895,Val Accuracy: 0.5917\n",
      "Epoch 112/200,Train Loss: 0.4660,Train Accuracy: 0.9842,Val Loss: 11.9259,Val Accuracy: 0.5917\n",
      "Epoch 113/200,Train Loss: 0.4863,Train Accuracy: 0.9852,Val Loss: 11.8698,Val Accuracy: 0.5750\n",
      "Epoch 114/200,Train Loss: 0.4839,Train Accuracy: 0.9852,Val Loss: 11.8349,Val Accuracy: 0.5917\n",
      "Epoch 115/200,Train Loss: 0.9724,Train Accuracy: 0.9852,Val Loss: 12.0606,Val Accuracy: 0.5875\n",
      "Epoch 116/200,Train Loss: 0.6107,Train Accuracy: 0.9852,Val Loss: 12.0468,Val Accuracy: 0.5917\n",
      "Epoch 117/200,Train Loss: 0.4729,Train Accuracy: 0.9852,Val Loss: 12.2506,Val Accuracy: 0.5958\n",
      "Epoch 118/200,Train Loss: 0.4749,Train Accuracy: 0.9842,Val Loss: 12.3157,Val Accuracy: 0.5833\n",
      "Epoch 119/200,Train Loss: 0.5038,Train Accuracy: 0.9872,Val Loss: 12.4741,Val Accuracy: 0.5708\n",
      "Epoch 120/200,Train Loss: 0.5003,Train Accuracy: 0.9852,Val Loss: 12.1842,Val Accuracy: 0.5875\n",
      "Epoch 121/200,Train Loss: 0.4717,Train Accuracy: 0.9852,Val Loss: 12.0974,Val Accuracy: 0.6000\n",
      "Epoch 122/200,Train Loss: 0.5300,Train Accuracy: 0.9852,Val Loss: 12.5822,Val Accuracy: 0.5750\n",
      "Epoch 123/200,Train Loss: 0.4774,Train Accuracy: 0.9862,Val Loss: 12.3422,Val Accuracy: 0.5833\n",
      "Epoch 124/200,Train Loss: 0.4674,Train Accuracy: 0.9852,Val Loss: 12.1184,Val Accuracy: 0.5750\n",
      "Epoch 125/200,Train Loss: 0.5416,Train Accuracy: 0.9862,Val Loss: 12.0036,Val Accuracy: 0.5875\n",
      "Epoch 126/200,Train Loss: 0.4856,Train Accuracy: 0.9842,Val Loss: 12.2810,Val Accuracy: 0.5833\n",
      "Epoch 127/200,Train Loss: 0.4844,Train Accuracy: 0.9852,Val Loss: 12.2614,Val Accuracy: 0.5917\n",
      "Epoch 128/200,Train Loss: 0.4811,Train Accuracy: 0.9842,Val Loss: 12.2022,Val Accuracy: 0.5792\n",
      "Epoch 129/200,Train Loss: 0.4613,Train Accuracy: 0.9852,Val Loss: 12.5728,Val Accuracy: 0.5917\n",
      "Epoch 130/200,Train Loss: 0.4842,Train Accuracy: 0.9862,Val Loss: 12.5225,Val Accuracy: 0.5958\n",
      "Epoch 131/200,Train Loss: 0.4820,Train Accuracy: 0.9852,Val Loss: 12.1783,Val Accuracy: 0.5875\n",
      "Epoch 132/200,Train Loss: 0.4777,Train Accuracy: 0.9852,Val Loss: 12.1237,Val Accuracy: 0.5875\n",
      "Epoch 133/200,Train Loss: 0.5182,Train Accuracy: 0.9823,Val Loss: 12.1093,Val Accuracy: 0.5792\n",
      "Epoch 134/200,Train Loss: 0.5078,Train Accuracy: 0.9862,Val Loss: 12.6624,Val Accuracy: 0.5875\n",
      "Epoch 135/200,Train Loss: 0.4696,Train Accuracy: 0.9882,Val Loss: 13.6397,Val Accuracy: 0.6000\n",
      "Epoch 136/200,Train Loss: 0.4671,Train Accuracy: 0.9862,Val Loss: 13.8418,Val Accuracy: 0.5917\n",
      "Epoch 137/200,Train Loss: 0.4716,Train Accuracy: 0.9842,Val Loss: 14.0718,Val Accuracy: 0.5875\n",
      "Epoch 138/200,Train Loss: 0.4605,Train Accuracy: 0.9872,Val Loss: 14.1518,Val Accuracy: 0.5875\n",
      "Epoch 139/200,Train Loss: 0.4602,Train Accuracy: 0.9882,Val Loss: 14.1950,Val Accuracy: 0.5917\n",
      "Epoch 140/200,Train Loss: 0.4735,Train Accuracy: 0.9852,Val Loss: 13.6666,Val Accuracy: 0.5750\n",
      "Epoch 141/200,Train Loss: 0.4549,Train Accuracy: 0.9872,Val Loss: 13.8652,Val Accuracy: 0.5833\n",
      "Epoch 142/200,Train Loss: 0.4416,Train Accuracy: 0.9872,Val Loss: 13.6164,Val Accuracy: 0.5750\n",
      "Epoch 143/200,Train Loss: 0.4426,Train Accuracy: 0.9852,Val Loss: 13.6477,Val Accuracy: 0.5917\n",
      "Epoch 144/200,Train Loss: 0.4693,Train Accuracy: 0.9862,Val Loss: 13.7962,Val Accuracy: 0.5833\n",
      "Epoch 145/200,Train Loss: 0.4569,Train Accuracy: 0.9842,Val Loss: 13.2208,Val Accuracy: 0.5917\n",
      "Epoch 146/200,Train Loss: 0.4244,Train Accuracy: 0.9862,Val Loss: 13.4388,Val Accuracy: 0.5833\n",
      "Epoch 147/200,Train Loss: 0.4900,Train Accuracy: 0.9862,Val Loss: 13.4947,Val Accuracy: 0.5833\n",
      "Epoch 148/200,Train Loss: 0.4813,Train Accuracy: 0.9872,Val Loss: 13.3503,Val Accuracy: 0.5708\n",
      "Epoch 149/200,Train Loss: 0.4379,Train Accuracy: 0.9852,Val Loss: 13.7871,Val Accuracy: 0.5708\n",
      "Epoch 150/200,Train Loss: 0.4769,Train Accuracy: 0.9852,Val Loss: 13.4667,Val Accuracy: 0.5875\n",
      "Epoch 151/200,Train Loss: 0.4450,Train Accuracy: 0.9872,Val Loss: 13.5763,Val Accuracy: 0.5958\n",
      "Epoch 152/200,Train Loss: 0.4557,Train Accuracy: 0.9852,Val Loss: 14.1915,Val Accuracy: 0.5917\n",
      "Epoch 153/200,Train Loss: 0.4492,Train Accuracy: 0.9862,Val Loss: 13.2324,Val Accuracy: 0.5750\n",
      "Epoch 154/200,Train Loss: 0.4914,Train Accuracy: 0.9852,Val Loss: 13.5062,Val Accuracy: 0.5750\n",
      "Epoch 155/200,Train Loss: 0.4532,Train Accuracy: 0.9852,Val Loss: 13.7717,Val Accuracy: 0.5875\n",
      "Epoch 156/200,Train Loss: 0.4522,Train Accuracy: 0.9862,Val Loss: 13.9630,Val Accuracy: 0.5917\n",
      "Epoch 157/200,Train Loss: 0.4555,Train Accuracy: 0.9862,Val Loss: 14.0242,Val Accuracy: 0.5875\n",
      "Epoch 158/200,Train Loss: 0.4318,Train Accuracy: 0.9842,Val Loss: 14.0130,Val Accuracy: 0.5917\n",
      "Epoch 159/200,Train Loss: 0.4244,Train Accuracy: 0.9862,Val Loss: 13.8464,Val Accuracy: 0.5917\n",
      "Epoch 160/200,Train Loss: 0.4237,Train Accuracy: 0.9882,Val Loss: 14.1634,Val Accuracy: 0.5875\n",
      "Epoch 161/200,Train Loss: 0.4450,Train Accuracy: 0.9872,Val Loss: 13.4601,Val Accuracy: 0.5792\n",
      "Epoch 162/200,Train Loss: 0.4818,Train Accuracy: 0.9833,Val Loss: 13.9492,Val Accuracy: 0.5917\n",
      "Epoch 163/200,Train Loss: 0.5378,Train Accuracy: 0.9842,Val Loss: 13.9546,Val Accuracy: 0.5583\n",
      "Epoch 164/200,Train Loss: 0.4377,Train Accuracy: 0.9842,Val Loss: 12.2181,Val Accuracy: 0.5542\n",
      "Epoch 165/200,Train Loss: 0.4459,Train Accuracy: 0.9852,Val Loss: 14.3281,Val Accuracy: 0.5875\n",
      "Epoch 166/200,Train Loss: 0.4553,Train Accuracy: 0.9872,Val Loss: 13.3543,Val Accuracy: 0.5833\n",
      "Epoch 167/200,Train Loss: 0.5579,Train Accuracy: 0.9842,Val Loss: 13.4163,Val Accuracy: 0.5708\n",
      "Epoch 168/200,Train Loss: 0.5149,Train Accuracy: 0.9872,Val Loss: 13.2345,Val Accuracy: 0.5667\n",
      "Epoch 169/200,Train Loss: 0.4235,Train Accuracy: 0.9862,Val Loss: 14.1314,Val Accuracy: 0.5792\n",
      "Epoch 170/200,Train Loss: 0.4223,Train Accuracy: 0.9872,Val Loss: 13.7688,Val Accuracy: 0.5708\n",
      "Epoch 171/200,Train Loss: 0.4389,Train Accuracy: 0.9852,Val Loss: 14.0885,Val Accuracy: 0.5833\n",
      "Epoch 172/200,Train Loss: 0.4151,Train Accuracy: 0.9872,Val Loss: 13.5206,Val Accuracy: 0.5750\n",
      "Epoch 173/200,Train Loss: 0.4212,Train Accuracy: 0.9882,Val Loss: 14.1660,Val Accuracy: 0.5833\n",
      "Epoch 174/200,Train Loss: 0.4429,Train Accuracy: 0.9842,Val Loss: 15.2019,Val Accuracy: 0.5708\n",
      "Epoch 175/200,Train Loss: 0.4628,Train Accuracy: 0.9823,Val Loss: 13.8011,Val Accuracy: 0.5792\n",
      "Epoch 176/200,Train Loss: 0.4883,Train Accuracy: 0.9783,Val Loss: 12.6953,Val Accuracy: 0.5833\n",
      "Epoch 177/200,Train Loss: 0.4338,Train Accuracy: 0.9852,Val Loss: 13.2697,Val Accuracy: 0.5875\n",
      "Epoch 178/200,Train Loss: 0.4114,Train Accuracy: 0.9862,Val Loss: 13.5038,Val Accuracy: 0.5958\n",
      "Epoch 179/200,Train Loss: 0.4291,Train Accuracy: 0.9872,Val Loss: 13.7096,Val Accuracy: 0.5875\n",
      "Epoch 180/200,Train Loss: 0.4343,Train Accuracy: 0.9882,Val Loss: 13.0715,Val Accuracy: 0.5875\n",
      "Epoch 181/200,Train Loss: 0.5694,Train Accuracy: 0.9813,Val Loss: 13.3057,Val Accuracy: 0.6000\n",
      "Epoch 182/200,Train Loss: 0.5298,Train Accuracy: 0.9862,Val Loss: 13.7447,Val Accuracy: 0.5875\n",
      "Epoch 183/200,Train Loss: 0.4525,Train Accuracy: 0.9862,Val Loss: 13.2523,Val Accuracy: 0.6000\n",
      "Epoch 184/200,Train Loss: 0.4490,Train Accuracy: 0.9852,Val Loss: 13.4572,Val Accuracy: 0.5917\n",
      "Epoch 185/200,Train Loss: 0.4879,Train Accuracy: 0.9823,Val Loss: 13.4339,Val Accuracy: 0.5917\n",
      "Epoch 186/200,Train Loss: 0.4511,Train Accuracy: 0.9882,Val Loss: 13.6304,Val Accuracy: 0.5708\n",
      "Epoch 187/200,Train Loss: 0.4381,Train Accuracy: 0.9842,Val Loss: 11.9527,Val Accuracy: 0.5625\n",
      "Epoch 188/200,Train Loss: 0.4544,Train Accuracy: 0.9803,Val Loss: 13.5821,Val Accuracy: 0.5875\n",
      "Epoch 189/200,Train Loss: 0.4495,Train Accuracy: 0.9872,Val Loss: 13.3805,Val Accuracy: 0.5750\n",
      "Epoch 190/200,Train Loss: 0.4562,Train Accuracy: 0.9892,Val Loss: 13.0832,Val Accuracy: 0.5583\n",
      "Epoch 191/200,Train Loss: 0.4659,Train Accuracy: 0.9862,Val Loss: 12.9305,Val Accuracy: 0.5875\n",
      "Epoch 192/200,Train Loss: 0.4795,Train Accuracy: 0.9872,Val Loss: 13.3377,Val Accuracy: 0.5792\n",
      "Epoch 193/200,Train Loss: 0.4412,Train Accuracy: 0.9862,Val Loss: 13.2630,Val Accuracy: 0.5750\n",
      "Epoch 194/200,Train Loss: 0.4583,Train Accuracy: 0.9862,Val Loss: 13.5622,Val Accuracy: 0.5792\n",
      "Epoch 195/200,Train Loss: 0.4091,Train Accuracy: 0.9882,Val Loss: 13.4405,Val Accuracy: 0.5875\n",
      "Epoch 196/200,Train Loss: 0.4062,Train Accuracy: 0.9862,Val Loss: 13.4322,Val Accuracy: 0.5875\n",
      "Epoch 197/200,Train Loss: 0.4469,Train Accuracy: 0.9833,Val Loss: 13.7361,Val Accuracy: 0.5750\n",
      "Epoch 198/200,Train Loss: 0.4425,Train Accuracy: 0.9862,Val Loss: 13.8045,Val Accuracy: 0.5792\n",
      "Epoch 199/200,Train Loss: 0.4070,Train Accuracy: 0.9872,Val Loss: 13.6457,Val Accuracy: 0.5833\n",
      "Epoch 200/200,Train Loss: 0.4598,Train Accuracy: 0.9852,Val Loss: 13.3107,Val Accuracy: 0.5833\n"
     ]
    }
   ],
   "source": [
    "train(model, train_loader, val_loader, criterion, optimizer, num_classes=num_classes, epochs=200)"
   ]
  },
  {
   "cell_type": "code",
   "execution_count": 313,
   "metadata": {},
   "outputs": [
    {
     "data": {
      "image/png": "[encoded data removed]",
      "text/plain": [
       "<Figure size 640x480 with 1 Axes>"
      ]
     },
     "metadata": {},
     "output_type": "display_data"
    },
    {
     "data": {
      "image/png": "[encoded data removed]",
      "text/plain": [
       "<Figure size 640x480 with 1 Axes>"
      ]
     },
     "metadata": {},
     "output_type": "display_data"
    }
   ],
   "source": [
    "import matplotlib.pyplot as plt\n",
    "\n",
    "def plot_loss(train_losses, val_losses):\n",
    "    plt.plot(train_losses, label='Training Loss')\n",
    "    plt.plot(val_losses, label='Validation Loss')\n",
    "    plt.xlabel('Epoch')\n",
    "    plt.ylabel('Loss')\n",
    "    plt.title('Training and Validation Loss')\n",
    "    plt.legend()\n",
    "    plt.show()\n",
    "\n",
    "def plot_accuracy(train_accuracies, val_accuracies):\n",
    "    plt.plot(train_accuracies, label='Training Accuracy')\n",
    "    plt.plot(val_accuracies, label='Validation Accuracy')\n",
    "    plt.xlabel('Epoch')\n",
    "    plt.ylabel('Accuracy')\n",
    "    plt.title('Training and Validation Accuracy')\n",
    "    # plt.ylim(0, 0.7)  # Set y-axis range for accuracy\n",
    "    # plt.xticks(range(len(train_accuracies)), range(len(train_accuracies)))  # Set integer x-axis ticks\n",
    "    plt.legend()\n",
    "    plt.show()\n",
    "\n",
    "# Assuming train_losses, train_accuracies, val_losses, val_accuracies are available\n",
    "plot_loss(train_losses, val_losses)\n",
    "plot_accuracy(train_accuracies, val_accuracies)"
   ]
  },
  {
   "cell_type": "code",
   "execution_count": null,
   "metadata": {},
   "outputs": [],
   "source": []
  }
 ],
 "metadata": {
  "kernelspec": {
   "display_name": "m_env",
   "language": "python",
   "name": "python3"
  },
  "language_info": {
   "codemirror_mode": {
    "name": "ipython",
    "version": 3
   },
   "file_extension": ".py",
   "mimetype": "text/x-python",
   "name": "python",
   "nbconvert_exporter": "python",
   "pygments_lexer": "ipython3",
   "version": "3.10.13"
  }
 },
 "nbformat": 4,
 "nbformat_minor": 2
}
